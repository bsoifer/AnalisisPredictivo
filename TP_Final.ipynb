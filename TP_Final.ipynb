{
  "nbformat": 4,
  "nbformat_minor": 0,
  "metadata": {
    "colab": {
      "provenance": [],
      "authorship_tag": "ABX9TyMmAd+7Z41zJUalgXvXwh2N",
      "include_colab_link": true
    },
    "kernelspec": {
      "name": "python3",
      "display_name": "Python 3"
    },
    "language_info": {
      "name": "python"
    }
  },
  "cells": [
    {
      "cell_type": "markdown",
      "metadata": {
        "id": "view-in-github",
        "colab_type": "text"
      },
      "source": [
        "<a href=\"https://colab.research.google.com/github/bsoifer/AnalisisPredictivo/blob/main/TP_Final.ipynb\" target=\"_parent\"><img src=\"https://colab.research.google.com/assets/colab-badge.svg\" alt=\"Open In Colab\"/></a>"
      ]
    },
    {
      "cell_type": "markdown",
      "source": [
        "# Trabajo Práctico Final - Bruno Soifer (62423)"
      ],
      "metadata": {
        "id": "FelFRed-CZ5X"
      }
    },
    {
      "cell_type": "code",
      "source": [
        "!pip install cartopy"
      ],
      "metadata": {
        "colab": {
          "base_uri": "https://localhost:8080/"
        },
        "id": "XbN_EK4J6guP",
        "outputId": "5c661d31-d865-40e3-f22d-d186ba61c7b0"
      },
      "execution_count": 1,
      "outputs": [
        {
          "output_type": "stream",
          "name": "stdout",
          "text": [
            "Collecting cartopy\n",
            "  Downloading Cartopy-0.21.1.tar.gz (10.9 MB)\n",
            "\u001b[2K     \u001b[90m━━━━━━━━━━━━━━━━━━━━━━━━━━━━━━━━━━━━━━━━\u001b[0m \u001b[32m10.9/10.9 MB\u001b[0m \u001b[31m79.3 MB/s\u001b[0m eta \u001b[36m0:00:00\u001b[0m\n",
            "\u001b[?25h  Installing build dependencies ... \u001b[?25l\u001b[?25hdone\n",
            "  Getting requirements to build wheel ... \u001b[?25l\u001b[?25hdone\n",
            "  Preparing metadata (pyproject.toml) ... \u001b[?25l\u001b[?25hdone\n",
            "Requirement already satisfied: numpy>=1.18 in /usr/local/lib/python3.10/dist-packages (from cartopy) (1.22.4)\n",
            "Requirement already satisfied: matplotlib>=3.1 in /usr/local/lib/python3.10/dist-packages (from cartopy) (3.7.1)\n",
            "Requirement already satisfied: shapely>=1.6.4 in /usr/local/lib/python3.10/dist-packages (from cartopy) (2.0.1)\n",
            "Collecting pyshp>=2.1 (from cartopy)\n",
            "  Downloading pyshp-2.3.1-py2.py3-none-any.whl (46 kB)\n",
            "\u001b[2K     \u001b[90m━━━━━━━━━━━━━━━━━━━━━━━━━━━━━━━━━━━━━━━━\u001b[0m \u001b[32m46.5/46.5 kB\u001b[0m \u001b[31m4.6 MB/s\u001b[0m eta \u001b[36m0:00:00\u001b[0m\n",
            "\u001b[?25hRequirement already satisfied: pyproj>=3.0.0 in /usr/local/lib/python3.10/dist-packages (from cartopy) (3.6.0)\n",
            "Requirement already satisfied: contourpy>=1.0.1 in /usr/local/lib/python3.10/dist-packages (from matplotlib>=3.1->cartopy) (1.1.0)\n",
            "Requirement already satisfied: cycler>=0.10 in /usr/local/lib/python3.10/dist-packages (from matplotlib>=3.1->cartopy) (0.11.0)\n",
            "Requirement already satisfied: fonttools>=4.22.0 in /usr/local/lib/python3.10/dist-packages (from matplotlib>=3.1->cartopy) (4.40.0)\n",
            "Requirement already satisfied: kiwisolver>=1.0.1 in /usr/local/lib/python3.10/dist-packages (from matplotlib>=3.1->cartopy) (1.4.4)\n",
            "Requirement already satisfied: packaging>=20.0 in /usr/local/lib/python3.10/dist-packages (from matplotlib>=3.1->cartopy) (23.1)\n",
            "Requirement already satisfied: pillow>=6.2.0 in /usr/local/lib/python3.10/dist-packages (from matplotlib>=3.1->cartopy) (8.4.0)\n",
            "Requirement already satisfied: pyparsing>=2.3.1 in /usr/local/lib/python3.10/dist-packages (from matplotlib>=3.1->cartopy) (3.1.0)\n",
            "Requirement already satisfied: python-dateutil>=2.7 in /usr/local/lib/python3.10/dist-packages (from matplotlib>=3.1->cartopy) (2.8.2)\n",
            "Requirement already satisfied: certifi in /usr/local/lib/python3.10/dist-packages (from pyproj>=3.0.0->cartopy) (2023.5.7)\n",
            "Requirement already satisfied: six>=1.5 in /usr/local/lib/python3.10/dist-packages (from python-dateutil>=2.7->matplotlib>=3.1->cartopy) (1.16.0)\n",
            "Building wheels for collected packages: cartopy\n",
            "  Building wheel for cartopy (pyproject.toml) ... \u001b[?25l\u001b[?25hdone\n",
            "  Created wheel for cartopy: filename=Cartopy-0.21.1-cp310-cp310-linux_x86_64.whl size=11102738 sha256=dee4599f51752de9a986a4f3d9bf3ab56ddfb27c6556753bf28ae6575957b8f5\n",
            "  Stored in directory: /root/.cache/pip/wheels/30/b0/1a/1c1909e00c76653dc4e2ff48555257c0eb2d1698280c8d9955\n",
            "Successfully built cartopy\n",
            "Installing collected packages: pyshp, cartopy\n",
            "Successfully installed cartopy-0.21.1 pyshp-2.3.1\n"
          ]
        }
      ]
    },
    {
      "cell_type": "markdown",
      "source": [
        "## Lectura del dataset"
      ],
      "metadata": {
        "id": "y-KRd61BCiH-"
      }
    },
    {
      "cell_type": "code",
      "execution_count": 2,
      "metadata": {
        "colab": {
          "base_uri": "https://localhost:8080/"
        },
        "id": "3pqI12jrCT8e",
        "outputId": "6d6c79bc-a3d3-4759-85f3-5f5245555892"
      },
      "outputs": [
        {
          "output_type": "stream",
          "name": "stdout",
          "text": [
            "Mounted at /content/drive\n"
          ]
        }
      ],
      "source": [
        "import pandas as pd\n",
        "import matplotlib.pyplot as plt\n",
        "import numpy as np\n",
        "import seaborn as sns\n",
        "from textblob import TextBlob\n",
        "from sklearn.preprocessing import LabelEncoder\n",
        "from sklearn.ensemble import ExtraTreesRegressor, RandomForestRegressor, RandomForestClassifier, GradientBoostingClassifier\n",
        "from sklearn.cluster import KMeans\n",
        "from sklearn.linear_model import LogisticRegression\n",
        "from sklearn.linear_model import LinearRegression\n",
        "from sklearn.tree import DecisionTreeRegressor\n",
        "from sklearn.tree import DecisionTreeClassifier\n",
        "from sklearn.metrics import mean_squared_error\n",
        "from sklearn.model_selection import train_test_split, GridSearchCV\n",
        "from sklearn.metrics import r2_score, make_scorer, accuracy_score, precision_score, recall_score, roc_auc_score, confusion_matrix\n",
        "import xgboost as xgb\n",
        "from datetime import datetime\n",
        "from dateutil import parser\n",
        "import cartopy.crs as ccrs\n",
        "from geopy.geocoders import Nominatim\n",
        "\n",
        "from google.colab import drive\n",
        "drive.mount('/content/drive')"
      ]
    },
    {
      "cell_type": "code",
      "source": [
        "# Ruta completa al archivo CSV\n",
        "file_path = '/content/drive/MyDrive/Materias 1C 2023/Análisis Predictivo/Final/weatherAUS2.csv'\n",
        "\n",
        "# Leer el archivo CSV\n",
        "rain = pd.read_csv(file_path, delimiter=';')"
      ],
      "metadata": {
        "id": "DVDzvGuMDFMw"
      },
      "execution_count": 3,
      "outputs": []
    },
    {
      "cell_type": "code",
      "source": [
        "rain"
      ],
      "metadata": {
        "colab": {
          "base_uri": "https://localhost:8080/",
          "height": 487
        },
        "id": "1gh2ipweEe8z",
        "outputId": "7aaa82e6-092f-42f8-d107-8d89a48c833b"
      },
      "execution_count": 4,
      "outputs": [
        {
          "output_type": "execute_result",
          "data": {
            "text/plain": [
              "             Date  Location  MinTemp  MaxTemp  Rainfall  Evaporation  \\\n",
              "0        1/7/2008  Adelaide      8.8     15.7       5.0          1.6   \n",
              "1        2/7/2008  Adelaide     12.7     15.8       0.8          1.4   \n",
              "2        3/7/2008  Adelaide      6.2     15.1       0.0          1.8   \n",
              "3        4/7/2008  Adelaide      5.3     15.9       0.0          1.4   \n",
              "4        5/7/2008  Adelaide      9.8     15.4       0.0          NaN   \n",
              "...           ...       ...      ...      ...       ...          ...   \n",
              "145458  24/6/2017   Woomera     11.5     20.9       0.0          4.0   \n",
              "145459  25/6/2017   Woomera      6.5      NaN       0.0          4.0   \n",
              "145460        NaN       NaN      NaN      NaN       NaN          NaN   \n",
              "145461        NaN       NaN      NaN      NaN       NaN          NaN   \n",
              "145462        NaN       NaN      NaN      NaN       NaN          NaN   \n",
              "\n",
              "        Sunshine WindGustDir  WindGustSpeed WindDir9am  ... Pressure9am  \\\n",
              "0            2.6          NW           48.0         SW  ...      1017.4   \n",
              "1            7.8          SW           35.0        SSW  ...      1022.4   \n",
              "2            2.1           W           20.0        NNE  ...      1027.8   \n",
              "3            8.0         NNE           30.0        NNE  ...      1028.7   \n",
              "4            0.9           N           30.0        NNE  ...      1023.6   \n",
              "...          ...         ...            ...        ...  ...         ...   \n",
              "145458       NaN           W           33.0        WSW  ...      1019.5   \n",
              "145459       NaN         NaN            NaN          S  ...      1022.5   \n",
              "145460       NaN         NaN            NaN        NaN  ...         NaN   \n",
              "145461       NaN         NaN            NaN        NaN  ...         NaN   \n",
              "145462       NaN         NaN            NaN        NaN  ...         NaN   \n",
              "\n",
              "        Pressure3pm  Cloud9am  Cloud3pm  Temp9am  Temp3pm  RainToday  \\\n",
              "0            1017.7       NaN       NaN     13.5     14.9        Yes   \n",
              "1            1022.6       NaN       NaN     13.7     15.5         No   \n",
              "2            1026.5       NaN       NaN      9.3     13.9         No   \n",
              "3            1025.6       NaN       NaN     10.2     15.3         No   \n",
              "4            1020.2       NaN       NaN     11.3     13.8         No   \n",
              "...             ...       ...       ...      ...      ...        ...   \n",
              "145458       1017.5       7.0       NaN     12.5     20.7         No   \n",
              "145459       1021.6       1.0       NaN     11.2     16.8         No   \n",
              "145460          NaN       NaN       NaN      NaN      NaN        NaN   \n",
              "145461          NaN       NaN       NaN      NaN      NaN        NaN   \n",
              "145462          NaN       NaN       NaN      NaN      NaN        NaN   \n",
              "\n",
              "        RainTomorrow  RainStreak  RainLast7Days  \n",
              "0                 No         1.0            1.0  \n",
              "1                 No         0.0            1.0  \n",
              "2                 No         0.0            1.0  \n",
              "3                 No         0.0            1.0  \n",
              "4                NaN         0.0            1.0  \n",
              "...              ...         ...            ...  \n",
              "145458            No         0.0            0.0  \n",
              "145459           NaN         0.0            0.0  \n",
              "145460           NaN         NaN            NaN  \n",
              "145461           NaN         NaN            NaN  \n",
              "145462           NaN         NaN            NaN  \n",
              "\n",
              "[145463 rows x 25 columns]"
            ],
            "text/html": [
              "\n",
              "  <div id=\"df-04dad5fd-a29a-4e99-91d0-4df5c9b9b9be\">\n",
              "    <div class=\"colab-df-container\">\n",
              "      <div>\n",
              "<style scoped>\n",
              "    .dataframe tbody tr th:only-of-type {\n",
              "        vertical-align: middle;\n",
              "    }\n",
              "\n",
              "    .dataframe tbody tr th {\n",
              "        vertical-align: top;\n",
              "    }\n",
              "\n",
              "    .dataframe thead th {\n",
              "        text-align: right;\n",
              "    }\n",
              "</style>\n",
              "<table border=\"1\" class=\"dataframe\">\n",
              "  <thead>\n",
              "    <tr style=\"text-align: right;\">\n",
              "      <th></th>\n",
              "      <th>Date</th>\n",
              "      <th>Location</th>\n",
              "      <th>MinTemp</th>\n",
              "      <th>MaxTemp</th>\n",
              "      <th>Rainfall</th>\n",
              "      <th>Evaporation</th>\n",
              "      <th>Sunshine</th>\n",
              "      <th>WindGustDir</th>\n",
              "      <th>WindGustSpeed</th>\n",
              "      <th>WindDir9am</th>\n",
              "      <th>...</th>\n",
              "      <th>Pressure9am</th>\n",
              "      <th>Pressure3pm</th>\n",
              "      <th>Cloud9am</th>\n",
              "      <th>Cloud3pm</th>\n",
              "      <th>Temp9am</th>\n",
              "      <th>Temp3pm</th>\n",
              "      <th>RainToday</th>\n",
              "      <th>RainTomorrow</th>\n",
              "      <th>RainStreak</th>\n",
              "      <th>RainLast7Days</th>\n",
              "    </tr>\n",
              "  </thead>\n",
              "  <tbody>\n",
              "    <tr>\n",
              "      <th>0</th>\n",
              "      <td>1/7/2008</td>\n",
              "      <td>Adelaide</td>\n",
              "      <td>8.8</td>\n",
              "      <td>15.7</td>\n",
              "      <td>5.0</td>\n",
              "      <td>1.6</td>\n",
              "      <td>2.6</td>\n",
              "      <td>NW</td>\n",
              "      <td>48.0</td>\n",
              "      <td>SW</td>\n",
              "      <td>...</td>\n",
              "      <td>1017.4</td>\n",
              "      <td>1017.7</td>\n",
              "      <td>NaN</td>\n",
              "      <td>NaN</td>\n",
              "      <td>13.5</td>\n",
              "      <td>14.9</td>\n",
              "      <td>Yes</td>\n",
              "      <td>No</td>\n",
              "      <td>1.0</td>\n",
              "      <td>1.0</td>\n",
              "    </tr>\n",
              "    <tr>\n",
              "      <th>1</th>\n",
              "      <td>2/7/2008</td>\n",
              "      <td>Adelaide</td>\n",
              "      <td>12.7</td>\n",
              "      <td>15.8</td>\n",
              "      <td>0.8</td>\n",
              "      <td>1.4</td>\n",
              "      <td>7.8</td>\n",
              "      <td>SW</td>\n",
              "      <td>35.0</td>\n",
              "      <td>SSW</td>\n",
              "      <td>...</td>\n",
              "      <td>1022.4</td>\n",
              "      <td>1022.6</td>\n",
              "      <td>NaN</td>\n",
              "      <td>NaN</td>\n",
              "      <td>13.7</td>\n",
              "      <td>15.5</td>\n",
              "      <td>No</td>\n",
              "      <td>No</td>\n",
              "      <td>0.0</td>\n",
              "      <td>1.0</td>\n",
              "    </tr>\n",
              "    <tr>\n",
              "      <th>2</th>\n",
              "      <td>3/7/2008</td>\n",
              "      <td>Adelaide</td>\n",
              "      <td>6.2</td>\n",
              "      <td>15.1</td>\n",
              "      <td>0.0</td>\n",
              "      <td>1.8</td>\n",
              "      <td>2.1</td>\n",
              "      <td>W</td>\n",
              "      <td>20.0</td>\n",
              "      <td>NNE</td>\n",
              "      <td>...</td>\n",
              "      <td>1027.8</td>\n",
              "      <td>1026.5</td>\n",
              "      <td>NaN</td>\n",
              "      <td>NaN</td>\n",
              "      <td>9.3</td>\n",
              "      <td>13.9</td>\n",
              "      <td>No</td>\n",
              "      <td>No</td>\n",
              "      <td>0.0</td>\n",
              "      <td>1.0</td>\n",
              "    </tr>\n",
              "    <tr>\n",
              "      <th>3</th>\n",
              "      <td>4/7/2008</td>\n",
              "      <td>Adelaide</td>\n",
              "      <td>5.3</td>\n",
              "      <td>15.9</td>\n",
              "      <td>0.0</td>\n",
              "      <td>1.4</td>\n",
              "      <td>8.0</td>\n",
              "      <td>NNE</td>\n",
              "      <td>30.0</td>\n",
              "      <td>NNE</td>\n",
              "      <td>...</td>\n",
              "      <td>1028.7</td>\n",
              "      <td>1025.6</td>\n",
              "      <td>NaN</td>\n",
              "      <td>NaN</td>\n",
              "      <td>10.2</td>\n",
              "      <td>15.3</td>\n",
              "      <td>No</td>\n",
              "      <td>No</td>\n",
              "      <td>0.0</td>\n",
              "      <td>1.0</td>\n",
              "    </tr>\n",
              "    <tr>\n",
              "      <th>4</th>\n",
              "      <td>5/7/2008</td>\n",
              "      <td>Adelaide</td>\n",
              "      <td>9.8</td>\n",
              "      <td>15.4</td>\n",
              "      <td>0.0</td>\n",
              "      <td>NaN</td>\n",
              "      <td>0.9</td>\n",
              "      <td>N</td>\n",
              "      <td>30.0</td>\n",
              "      <td>NNE</td>\n",
              "      <td>...</td>\n",
              "      <td>1023.6</td>\n",
              "      <td>1020.2</td>\n",
              "      <td>NaN</td>\n",
              "      <td>NaN</td>\n",
              "      <td>11.3</td>\n",
              "      <td>13.8</td>\n",
              "      <td>No</td>\n",
              "      <td>NaN</td>\n",
              "      <td>0.0</td>\n",
              "      <td>1.0</td>\n",
              "    </tr>\n",
              "    <tr>\n",
              "      <th>...</th>\n",
              "      <td>...</td>\n",
              "      <td>...</td>\n",
              "      <td>...</td>\n",
              "      <td>...</td>\n",
              "      <td>...</td>\n",
              "      <td>...</td>\n",
              "      <td>...</td>\n",
              "      <td>...</td>\n",
              "      <td>...</td>\n",
              "      <td>...</td>\n",
              "      <td>...</td>\n",
              "      <td>...</td>\n",
              "      <td>...</td>\n",
              "      <td>...</td>\n",
              "      <td>...</td>\n",
              "      <td>...</td>\n",
              "      <td>...</td>\n",
              "      <td>...</td>\n",
              "      <td>...</td>\n",
              "      <td>...</td>\n",
              "      <td>...</td>\n",
              "    </tr>\n",
              "    <tr>\n",
              "      <th>145458</th>\n",
              "      <td>24/6/2017</td>\n",
              "      <td>Woomera</td>\n",
              "      <td>11.5</td>\n",
              "      <td>20.9</td>\n",
              "      <td>0.0</td>\n",
              "      <td>4.0</td>\n",
              "      <td>NaN</td>\n",
              "      <td>W</td>\n",
              "      <td>33.0</td>\n",
              "      <td>WSW</td>\n",
              "      <td>...</td>\n",
              "      <td>1019.5</td>\n",
              "      <td>1017.5</td>\n",
              "      <td>7.0</td>\n",
              "      <td>NaN</td>\n",
              "      <td>12.5</td>\n",
              "      <td>20.7</td>\n",
              "      <td>No</td>\n",
              "      <td>No</td>\n",
              "      <td>0.0</td>\n",
              "      <td>0.0</td>\n",
              "    </tr>\n",
              "    <tr>\n",
              "      <th>145459</th>\n",
              "      <td>25/6/2017</td>\n",
              "      <td>Woomera</td>\n",
              "      <td>6.5</td>\n",
              "      <td>NaN</td>\n",
              "      <td>0.0</td>\n",
              "      <td>4.0</td>\n",
              "      <td>NaN</td>\n",
              "      <td>NaN</td>\n",
              "      <td>NaN</td>\n",
              "      <td>S</td>\n",
              "      <td>...</td>\n",
              "      <td>1022.5</td>\n",
              "      <td>1021.6</td>\n",
              "      <td>1.0</td>\n",
              "      <td>NaN</td>\n",
              "      <td>11.2</td>\n",
              "      <td>16.8</td>\n",
              "      <td>No</td>\n",
              "      <td>NaN</td>\n",
              "      <td>0.0</td>\n",
              "      <td>0.0</td>\n",
              "    </tr>\n",
              "    <tr>\n",
              "      <th>145460</th>\n",
              "      <td>NaN</td>\n",
              "      <td>NaN</td>\n",
              "      <td>NaN</td>\n",
              "      <td>NaN</td>\n",
              "      <td>NaN</td>\n",
              "      <td>NaN</td>\n",
              "      <td>NaN</td>\n",
              "      <td>NaN</td>\n",
              "      <td>NaN</td>\n",
              "      <td>NaN</td>\n",
              "      <td>...</td>\n",
              "      <td>NaN</td>\n",
              "      <td>NaN</td>\n",
              "      <td>NaN</td>\n",
              "      <td>NaN</td>\n",
              "      <td>NaN</td>\n",
              "      <td>NaN</td>\n",
              "      <td>NaN</td>\n",
              "      <td>NaN</td>\n",
              "      <td>NaN</td>\n",
              "      <td>NaN</td>\n",
              "    </tr>\n",
              "    <tr>\n",
              "      <th>145461</th>\n",
              "      <td>NaN</td>\n",
              "      <td>NaN</td>\n",
              "      <td>NaN</td>\n",
              "      <td>NaN</td>\n",
              "      <td>NaN</td>\n",
              "      <td>NaN</td>\n",
              "      <td>NaN</td>\n",
              "      <td>NaN</td>\n",
              "      <td>NaN</td>\n",
              "      <td>NaN</td>\n",
              "      <td>...</td>\n",
              "      <td>NaN</td>\n",
              "      <td>NaN</td>\n",
              "      <td>NaN</td>\n",
              "      <td>NaN</td>\n",
              "      <td>NaN</td>\n",
              "      <td>NaN</td>\n",
              "      <td>NaN</td>\n",
              "      <td>NaN</td>\n",
              "      <td>NaN</td>\n",
              "      <td>NaN</td>\n",
              "    </tr>\n",
              "    <tr>\n",
              "      <th>145462</th>\n",
              "      <td>NaN</td>\n",
              "      <td>NaN</td>\n",
              "      <td>NaN</td>\n",
              "      <td>NaN</td>\n",
              "      <td>NaN</td>\n",
              "      <td>NaN</td>\n",
              "      <td>NaN</td>\n",
              "      <td>NaN</td>\n",
              "      <td>NaN</td>\n",
              "      <td>NaN</td>\n",
              "      <td>...</td>\n",
              "      <td>NaN</td>\n",
              "      <td>NaN</td>\n",
              "      <td>NaN</td>\n",
              "      <td>NaN</td>\n",
              "      <td>NaN</td>\n",
              "      <td>NaN</td>\n",
              "      <td>NaN</td>\n",
              "      <td>NaN</td>\n",
              "      <td>NaN</td>\n",
              "      <td>NaN</td>\n",
              "    </tr>\n",
              "  </tbody>\n",
              "</table>\n",
              "<p>145463 rows × 25 columns</p>\n",
              "</div>\n",
              "      <button class=\"colab-df-convert\" onclick=\"convertToInteractive('df-04dad5fd-a29a-4e99-91d0-4df5c9b9b9be')\"\n",
              "              title=\"Convert this dataframe to an interactive table.\"\n",
              "              style=\"display:none;\">\n",
              "        \n",
              "  <svg xmlns=\"http://www.w3.org/2000/svg\" height=\"24px\"viewBox=\"0 0 24 24\"\n",
              "       width=\"24px\">\n",
              "    <path d=\"M0 0h24v24H0V0z\" fill=\"none\"/>\n",
              "    <path d=\"M18.56 5.44l.94 2.06.94-2.06 2.06-.94-2.06-.94-.94-2.06-.94 2.06-2.06.94zm-11 1L8.5 8.5l.94-2.06 2.06-.94-2.06-.94L8.5 2.5l-.94 2.06-2.06.94zm10 10l.94 2.06.94-2.06 2.06-.94-2.06-.94-.94-2.06-.94 2.06-2.06.94z\"/><path d=\"M17.41 7.96l-1.37-1.37c-.4-.4-.92-.59-1.43-.59-.52 0-1.04.2-1.43.59L10.3 9.45l-7.72 7.72c-.78.78-.78 2.05 0 2.83L4 21.41c.39.39.9.59 1.41.59.51 0 1.02-.2 1.41-.59l7.78-7.78 2.81-2.81c.8-.78.8-2.07 0-2.86zM5.41 20L4 18.59l7.72-7.72 1.47 1.35L5.41 20z\"/>\n",
              "  </svg>\n",
              "      </button>\n",
              "      \n",
              "  <style>\n",
              "    .colab-df-container {\n",
              "      display:flex;\n",
              "      flex-wrap:wrap;\n",
              "      gap: 12px;\n",
              "    }\n",
              "\n",
              "    .colab-df-convert {\n",
              "      background-color: #E8F0FE;\n",
              "      border: none;\n",
              "      border-radius: 50%;\n",
              "      cursor: pointer;\n",
              "      display: none;\n",
              "      fill: #1967D2;\n",
              "      height: 32px;\n",
              "      padding: 0 0 0 0;\n",
              "      width: 32px;\n",
              "    }\n",
              "\n",
              "    .colab-df-convert:hover {\n",
              "      background-color: #E2EBFA;\n",
              "      box-shadow: 0px 1px 2px rgba(60, 64, 67, 0.3), 0px 1px 3px 1px rgba(60, 64, 67, 0.15);\n",
              "      fill: #174EA6;\n",
              "    }\n",
              "\n",
              "    [theme=dark] .colab-df-convert {\n",
              "      background-color: #3B4455;\n",
              "      fill: #D2E3FC;\n",
              "    }\n",
              "\n",
              "    [theme=dark] .colab-df-convert:hover {\n",
              "      background-color: #434B5C;\n",
              "      box-shadow: 0px 1px 3px 1px rgba(0, 0, 0, 0.15);\n",
              "      filter: drop-shadow(0px 1px 2px rgba(0, 0, 0, 0.3));\n",
              "      fill: #FFFFFF;\n",
              "    }\n",
              "  </style>\n",
              "\n",
              "      <script>\n",
              "        const buttonEl =\n",
              "          document.querySelector('#df-04dad5fd-a29a-4e99-91d0-4df5c9b9b9be button.colab-df-convert');\n",
              "        buttonEl.style.display =\n",
              "          google.colab.kernel.accessAllowed ? 'block' : 'none';\n",
              "\n",
              "        async function convertToInteractive(key) {\n",
              "          const element = document.querySelector('#df-04dad5fd-a29a-4e99-91d0-4df5c9b9b9be');\n",
              "          const dataTable =\n",
              "            await google.colab.kernel.invokeFunction('convertToInteractive',\n",
              "                                                     [key], {});\n",
              "          if (!dataTable) return;\n",
              "\n",
              "          const docLinkHtml = 'Like what you see? Visit the ' +\n",
              "            '<a target=\"_blank\" href=https://colab.research.google.com/notebooks/data_table.ipynb>data table notebook</a>'\n",
              "            + ' to learn more about interactive tables.';\n",
              "          element.innerHTML = '';\n",
              "          dataTable['output_type'] = 'display_data';\n",
              "          await google.colab.output.renderOutput(dataTable, element);\n",
              "          const docLink = document.createElement('div');\n",
              "          docLink.innerHTML = docLinkHtml;\n",
              "          element.appendChild(docLink);\n",
              "        }\n",
              "      </script>\n",
              "    </div>\n",
              "  </div>\n",
              "  "
            ]
          },
          "metadata": {},
          "execution_count": 4
        }
      ]
    },
    {
      "cell_type": "code",
      "source": [
        "i = 16\n",
        "print(\"Nombre de la columna:\", rain.columns[i])\n",
        "print(\"Tipo de dato de la columna:\", rain.dtypes[i])\n",
        "x = rain.columns[i]\n",
        "repeticiones = rain[x].duplicated().any()\n",
        "print(\"¿Hay repeticiones en los valores de la columna?\", repeticiones)\n",
        "print(\"¿Hay valores nulos en la columna?\", rain[x].isnull().any())\n",
        "valores_repetidos = rain[x].value_counts()\n",
        "print(valores_repetidos.head())"
      ],
      "metadata": {
        "colab": {
          "base_uri": "https://localhost:8080/"
        },
        "id": "ML9ibt9XEsZr",
        "outputId": "8b7e9911-4064-4b0e-949c-c4a95a974576"
      },
      "execution_count": 5,
      "outputs": [
        {
          "output_type": "stream",
          "name": "stdout",
          "text": [
            "Nombre de la columna: Pressure3pm\n",
            "Tipo de dato de la columna: float64\n",
            "¿Hay repeticiones en los valores de la columna? True\n",
            "¿Hay valores nulos en la columna? True\n",
            "1015.3    789\n",
            "1015.5    788\n",
            "1015.6    780\n",
            "1015.7    774\n",
            "1013.5    774\n",
            "Name: Pressure3pm, dtype: int64\n"
          ]
        }
      ]
    },
    {
      "cell_type": "markdown",
      "source": [
        "## Transformación de variables categóricas a numéricas"
      ],
      "metadata": {
        "id": "Q6qEmqkwE6Tx"
      }
    },
    {
      "cell_type": "markdown",
      "source": [
        "### Date"
      ],
      "metadata": {
        "id": "3RCOEGQPFdsa"
      }
    },
    {
      "cell_type": "code",
      "source": [
        "# Convertir la columna 'date' al formato de fecha\n",
        "rain['Date'] = pd.to_datetime(rain['Date'], format='%d/%m/%Y')"
      ],
      "metadata": {
        "id": "S797e9rfFfeL"
      },
      "execution_count": 6,
      "outputs": []
    },
    {
      "cell_type": "code",
      "source": [
        "# Agrega el día del mes del registro\n",
        "rain['day_month'] = rain['Date'].dt.day"
      ],
      "metadata": {
        "id": "w5d0Vu4I5KRo"
      },
      "execution_count": 7,
      "outputs": []
    },
    {
      "cell_type": "code",
      "source": [
        "# Agrega una nueva columna con el día de la semana en formato numérico (1-7)\n",
        "rain['weekday'] = rain['Date'].apply(lambda x: datetime.weekday(x) + 1)"
      ],
      "metadata": {
        "id": "2fUox9-r54tW"
      },
      "execution_count": 8,
      "outputs": []
    },
    {
      "cell_type": "code",
      "source": [
        "# Agrega una nueva columna con el mes en formato numérico\n",
        "rain['month'] = rain['Date'].dt.month"
      ],
      "metadata": {
        "id": "5FiVvf1X6LkF"
      },
      "execution_count": 9,
      "outputs": []
    },
    {
      "cell_type": "code",
      "source": [
        "# Agrega una nueva columna con el año\n",
        "rain['year'] = rain['Date'].dt.year"
      ],
      "metadata": {
        "id": "IG4pUUNW6aIm"
      },
      "execution_count": 10,
      "outputs": []
    },
    {
      "cell_type": "code",
      "source": [
        "#Agrega una columna con la estación en la que se encuentra cada fecha\n",
        "\n",
        "# Defino una función para obtener la estación del año\n",
        "def obtener_estacion(fecha):\n",
        "    mes = fecha.month\n",
        "    dia = fecha.day\n",
        "\n",
        "    if (mes == 12 and dia >= 21) or (mes == 1 or mes == 2) or (mes == 3 and dia <= 20):\n",
        "        return 1  # Verano\n",
        "    elif (mes == 3 and dia >= 21) or (mes == 4 or mes == 5) or (mes == 6 and dia <= 20):\n",
        "        return 2  # Otoño\n",
        "    elif (mes == 6 and dia >= 21) or (mes == 7 or mes == 8) or (mes == 9 and dia <= 20):\n",
        "        return 3  # Invierno\n",
        "    else:\n",
        "        return 4  # Primavera\n",
        "\n",
        "# Agrega una nueva columna con la estación del año\n",
        "rain['estacion'] = rain['Date'].apply(obtener_estacion)"
      ],
      "metadata": {
        "id": "Hal6BLt-68_n"
      },
      "execution_count": 11,
      "outputs": []
    },
    {
      "cell_type": "code",
      "source": [
        "# Agrego una columna con el número de semana en la que se encuentra cada fecha\n",
        "rain['week'] = rain['Date'].dt.isocalendar().week"
      ],
      "metadata": {
        "id": "rZtvz9XZ8ihz"
      },
      "execution_count": 12,
      "outputs": []
    },
    {
      "cell_type": "code",
      "source": [
        "min_date = rain['Date'].min()\n",
        "rain['Date'] = (rain['Date'] - min_date).dt.days"
      ],
      "metadata": {
        "id": "c7X-WnMFGbKg"
      },
      "execution_count": 13,
      "outputs": []
    },
    {
      "cell_type": "markdown",
      "source": [
        "### Location"
      ],
      "metadata": {
        "id": "bhLT0k2I91G-"
      }
    },
    {
      "cell_type": "code",
      "source": [
        "ubicaciones = ['Albury', 'BadgerysCreek', 'Cobar', 'CoffsHarbour', 'Moree', 'Newcastle', 'NorahHead', 'NorfolkIsland', 'Penrith', 'Richmond', 'Sydney', 'SydneyAirport', 'WaggaWagga', 'Williamtown', 'Wollongong', 'Canberra', 'Tuggeranong', 'MountGinini', 'Ballarat', 'Bendigo', 'Sale', 'MelbourneAirport', 'Melbourne', 'Mildura', 'Nhil', 'Portland', 'Watsonia', 'Dartmoor', 'Brisbane', 'Cairns', 'GoldCoast', 'Townsville', 'Adelaide', 'MountGambier', 'Nuriootpa', 'Woomera', 'Albany', 'Witchcliffe', 'PearceRAAF', 'PerthAirport', 'Perth', 'SalmonGums', 'Walpole', 'Hobart', 'Launceston', 'AliceSprings', 'Darwin', 'Katherine', 'Uluru']\n",
        "latitudes = [-36.074, -33.886, -31.498, -30.296, -29.463, -32.926, -33.281, -29.040, -33.751, -33.598, -33.868, -33.946, -35.115, -32.798, -34.424, -35.280, -35.418, -35.529, -37.560, -36.758, -38.111, -37.667, -37.814, -34.185, -35.431, -38.351, -37.711, -37.922, -27.470, -16.925, -28.016, -19.257, -34.928, -37.828, -34.469, -31.200, -35.024, -34.029, -31.669, -31.940, -31.950, -32.986, -34.978, -42.882, -41.434, -23.698, -12.462, -14.464, -25.345]\n",
        "longitudes = [146.922, 150.773, 145.841, 153.114, 149.841, 151.778, 151.567, 167.954, 150.694, 150.740, 151.209, 151.177, 147.367, 151.835, 150.893, 149.130, 149.086, 148.771, 143.858, 144.280, 147.066, 144.833, 144.963, 142.162, 141.287, 141.605, 145.083, 141.275, 153.025, 145.775, 153.375, 146.817, 138.601, 140.782, 138.993, 115.856, 116.397, 117.532, 119.744, 115.146, 138.600, 116.214, 145.951, 147.154, 135.450, 130.845, 132.365, 130.984, 130.988]\n",
        "\n",
        "# Crear un diccionario con las ubicaciones, latitudes y longitudes\n",
        "data = {'Location': ubicaciones, 'latitude': latitudes, 'longitude': longitudes}\n",
        "\n",
        "# Crear un nuevo dataframe con los datos\n",
        "df_nuevo = pd.DataFrame(data)\n",
        "\n",
        "# Fusionar los dataframes rain y df_nuevo utilizando la columna 'Location' como clave\n",
        "rain = rain.merge(df_nuevo, on='Location')"
      ],
      "metadata": {
        "id": "Z0F5QwW7D9Vi"
      },
      "execution_count": 14,
      "outputs": []
    },
    {
      "cell_type": "code",
      "source": [
        "#Columna location_cluster\n",
        "\n",
        "# Crea una lista de coordenadas a partir de las latitudes y longitudes\n",
        "coordenadas = list(zip(rain['latitude'], rain['longitude']))\n",
        "\n",
        "# Definir la cantidad de clusters deseada\n",
        "num_clusters = 15\n",
        "\n",
        "# Crear el modelo K-means\n",
        "kmeans = KMeans(n_clusters=num_clusters, random_state=42)\n",
        "\n",
        "# Entrenar el modelo con las coordenadas\n",
        "kmeans.fit(coordenadas)\n",
        "\n",
        "# Agregar la columna \"location_cluster\" al DataFrame \"rain\"\n",
        "rain['location_cluster'] = kmeans.labels_\n"
      ],
      "metadata": {
        "colab": {
          "base_uri": "https://localhost:8080/"
        },
        "id": "55QYbBLAiFLU",
        "outputId": "bf53acf0-a137-4c13-9d14-64f8b958b3f1"
      },
      "execution_count": 15,
      "outputs": [
        {
          "output_type": "stream",
          "name": "stderr",
          "text": [
            "/usr/local/lib/python3.10/dist-packages/sklearn/cluster/_kmeans.py:870: FutureWarning: The default value of `n_init` will change from 10 to 'auto' in 1.4. Set the value of `n_init` explicitly to suppress the warning\n",
            "  warnings.warn(\n"
          ]
        }
      ]
    },
    {
      "cell_type": "code",
      "source": [
        "# Columna popular_city\n",
        "# Lista de las ciudades más pobladas\n",
        "ciudades_populares = ['Sydney', 'Melbourne', 'Brisbane', 'Perth', 'Adelaide']\n",
        "\n",
        "# Crear la columna \"is_popular\" y asignar valores\n",
        "rain['popular_city'] = rain['Location'].apply(lambda x: 1 if x in ciudades_populares else 0)\n"
      ],
      "metadata": {
        "id": "anrli5MHkIPH"
      },
      "execution_count": 16,
      "outputs": []
    },
    {
      "cell_type": "code",
      "source": [
        "# Columna city_is_near_coast\n",
        "\n",
        "# Definir los rangos de latitud y longitud para la región costera\n",
        "latitud_min = -43.0\n",
        "latitud_max = -10.0\n",
        "longitud_min = 113.0\n",
        "longitud_max = 153.0\n",
        "\n",
        "# Crear la columna \"is_near_coast\" y asignar valores\n",
        "rain['city_is_near_coast'] = rain.apply(lambda row: 1 if (latitud_min <= row['latitude'] <= latitud_max) and (longitud_min <= row['longitude'] <= longitud_max) else 0, axis=1)\n"
      ],
      "metadata": {
        "id": "Uqacc95AkrE0"
      },
      "execution_count": 17,
      "outputs": []
    },
    {
      "cell_type": "code",
      "source": [
        "# Modificar la ubicación para pasarla a número\n",
        "\n",
        "# Creo una instancia de LabelEncoder\n",
        "label_encoder = LabelEncoder()\n",
        "\n",
        "# Ajusto el LabelEncoder a la columna \"Location\"\n",
        "rain['Location'] = label_encoder.fit_transform(rain['Location'])"
      ],
      "metadata": {
        "id": "LXOzVLjF94j4"
      },
      "execution_count": 18,
      "outputs": []
    },
    {
      "cell_type": "markdown",
      "source": [
        "### Wind"
      ],
      "metadata": {
        "id": "BddLsnHnlQFE"
      }
    },
    {
      "cell_type": "code",
      "source": [
        "# Direcciones del viento\n",
        "direcciones = ['W', 'WNW', 'WSW', 'NE', 'NNW', 'N', 'NNE', 'SW', pd.NA, 'ENE', 'SSE', 'S', 'NW', 'SE', 'ESE', 'E', 'SSW']\n",
        "\n",
        "# Diccionario de mapeo de direcciones del viento a números\n",
        "mapeo_direccion = {\n",
        "    'W': 1,\n",
        "    'WNW': 2,\n",
        "    'WSW': 3,\n",
        "    'NE': 4,\n",
        "    'NNW': 5,\n",
        "    'N': 6,\n",
        "    'NNE': 7,\n",
        "    'SW': 8,\n",
        "    pd.NA: 0,\n",
        "    'ENE': 9,\n",
        "    'SSE': 10,\n",
        "    'S': 11,\n",
        "    'NW': 12,\n",
        "    'SE': 13,\n",
        "    'ESE': 14,\n",
        "    'E': 15,\n",
        "    'SSW': 16\n",
        "}\n",
        "\n",
        "# Reemplazar las direcciones del viento por números y los valores nulos por cero\n",
        "rain['WindGustDir'] = rain['WindGustDir'].replace(mapeo_direccion)\n",
        "rain['WindDir9am'] = rain['WindDir9am'].replace(mapeo_direccion)\n",
        "rain['WindDir3pm'] = rain['WindDir3pm'].replace(mapeo_direccion)\n"
      ],
      "metadata": {
        "id": "gB0fo2WynqGM"
      },
      "execution_count": 19,
      "outputs": []
    },
    {
      "cell_type": "markdown",
      "source": [
        "### RainToday"
      ],
      "metadata": {
        "id": "X59FspVBq2jy"
      }
    },
    {
      "cell_type": "code",
      "source": [
        "# Reemplazar \"yes\" por 1 y cualquier otro valor por 0 en la columna \"RainToday\"\n",
        "rain['RainToday'] = rain['RainToday'].replace({'Yes': 1, 'No': 0})"
      ],
      "metadata": {
        "id": "BTiY_mbyq4_L"
      },
      "execution_count": 20,
      "outputs": []
    },
    {
      "cell_type": "markdown",
      "source": [
        "### RainTomorrow"
      ],
      "metadata": {
        "id": "hXEJTjHQnXdT"
      }
    },
    {
      "cell_type": "code",
      "source": [
        "# Reemplazar \"yes\" por 1 y cualquier otro valor por 0 en la columna a predecir\n",
        "rain['RainTomorrow'] = rain['RainTomorrow'].replace({'Yes': 1, 'No': 0})"
      ],
      "metadata": {
        "id": "CXYxNxr6naQ_"
      },
      "execution_count": 21,
      "outputs": []
    },
    {
      "cell_type": "markdown",
      "source": [
        "### Reemplazar valores nulos"
      ],
      "metadata": {
        "id": "x6PDIkgKo0kZ"
      }
    },
    {
      "cell_type": "code",
      "source": [
        "# Reemplazar los valores nulos por cero en todas las columnas\n",
        "rain.fillna(0, inplace=True)"
      ],
      "metadata": {
        "id": "l_vt4eqYo3Wx"
      },
      "execution_count": 22,
      "outputs": []
    },
    {
      "cell_type": "markdown",
      "source": [
        "## División train/test"
      ],
      "metadata": {
        "id": "uu8qJIsVeZNQ"
      }
    },
    {
      "cell_type": "code",
      "source": [
        "# Dividir el 80% inicial en conjuntos de entrenamiento y prueba\n",
        "rain_train, rain_test = train_test_split(rain, test_size=0.2, random_state=42)"
      ],
      "metadata": {
        "id": "C3KA3dlzecHb"
      },
      "execution_count": 23,
      "outputs": []
    },
    {
      "cell_type": "markdown",
      "source": [
        "Chequeo de valores de columnas en test (y compatración con valores en train)"
      ],
      "metadata": {
        "id": "qR2d4Ha0VDLG"
      }
    },
    {
      "cell_type": "code",
      "source": [
        "i = 16\n",
        "print(\"Nombre de la columna:\", rain_train.columns[i])\n",
        "print(\"Tipo de dato de la columna:\", rain_train.dtypes[i])\n",
        "x = rain_train.columns[i]\n",
        "repeticiones = rain_train[x].duplicated().any()\n",
        "print(\"¿Hay repeticiones en los valores de la columna?\", repeticiones)\n",
        "print(\"¿Hay valores nulos en la columna?\", rain_train[x].isnull().any())\n",
        "valores_repetidos = rain_train[x].value_counts()\n",
        "print(valores_repetidos.head())"
      ],
      "metadata": {
        "colab": {
          "base_uri": "https://localhost:8080/"
        },
        "id": "KAs-mXHrUFqT",
        "outputId": "3501f38d-88e7-484f-d8b5-7a6ff14af5ae"
      },
      "execution_count": 24,
      "outputs": [
        {
          "output_type": "stream",
          "name": "stdout",
          "text": [
            "Nombre de la columna: Pressure3pm\n",
            "Tipo de dato de la columna: float64\n",
            "¿Hay repeticiones en los valores de la columna? True\n",
            "¿Hay valores nulos en la columna? False\n",
            "0.0       11474\n",
            "1015.3      643\n",
            "1015.5      637\n",
            "1013.5      630\n",
            "1015.7      623\n",
            "Name: Pressure3pm, dtype: int64\n"
          ]
        }
      ]
    },
    {
      "cell_type": "markdown",
      "source": [
        "## Regresión Logística"
      ],
      "metadata": {
        "id": "a5Ij2vCmis3h"
      }
    },
    {
      "cell_type": "code",
      "source": [
        "# Definir los posibles valores de los hiperparámetros a probar\n",
        "param_grid = {\n",
        "    'penalty': ['l1', 'l2'],\n",
        "    'C': [0.1, 1.0, 10.0],\n",
        "}\n",
        "\n",
        "X = rain_train.drop('RainTomorrow', axis=1)\n",
        "y = rain_train['RainTomorrow']\n",
        "\n",
        "# Crear el modelo de regresión logística\n",
        "model = LogisticRegression()\n",
        "\n",
        "# Realizar Grid Search con validación cruzada\n",
        "grid_search = GridSearchCV(estimator=model, param_grid=param_grid, scoring='accuracy', cv=5)\n",
        "grid_search.fit(X, y)\n",
        "\n",
        "# Obtener el mejor modelo y los mejores hiperparámetros\n",
        "best_model = grid_search.best_estimator_\n",
        "best_params = grid_search.best_params_\n",
        "\n",
        "# Entrenar el mejor modelo con todos los datos de entrenamiento\n",
        "best_model.fit(X, y)\n",
        "\n",
        "# Realizar predicciones en los datos de entrenamiento\n",
        "y_pred = best_model.predict(X)\n",
        "\n",
        "# Calcular las métricas de evaluación\n",
        "accuracy = accuracy_score(y, y_pred)\n",
        "precision = precision_score(y, y_pred)\n",
        "auc_roc = roc_auc_score(y, y_pred)\n",
        "confusion = confusion_matrix(y, y_pred)\n",
        "\n",
        "best_params = grid_search.best_params_\n",
        "print(\"Mejores hiperparámetros: \", best_params)\n",
        "\n",
        "print(\"Métricas de evaluación:\")\n",
        "print(\"Accuracy:\", accuracy)\n",
        "print(\"Precision:\", precision)\n",
        "print(\"AUC-ROC:\", auc_roc)\n",
        "print(\"Matriz de confusión:\")\n",
        "print(confusion)"
      ],
      "metadata": {
        "colab": {
          "base_uri": "https://localhost:8080/"
        },
        "id": "FARqzK0Jro9y",
        "outputId": "7fd015d8-45c2-4922-e15e-ad521afbfc9d"
      },
      "execution_count": null,
      "outputs": [
        {
          "output_type": "stream",
          "name": "stderr",
          "text": [
            "/usr/local/lib/python3.10/dist-packages/sklearn/linear_model/_logistic.py:458: ConvergenceWarning: lbfgs failed to converge (status=1):\n",
            "STOP: TOTAL NO. of ITERATIONS REACHED LIMIT.\n",
            "\n",
            "Increase the number of iterations (max_iter) or scale the data as shown in:\n",
            "    https://scikit-learn.org/stable/modules/preprocessing.html\n",
            "Please also refer to the documentation for alternative solver options:\n",
            "    https://scikit-learn.org/stable/modules/linear_model.html#logistic-regression\n",
            "  n_iter_i = _check_optimize_result(\n",
            "/usr/local/lib/python3.10/dist-packages/sklearn/linear_model/_logistic.py:458: ConvergenceWarning: lbfgs failed to converge (status=1):\n",
            "STOP: TOTAL NO. of ITERATIONS REACHED LIMIT.\n",
            "\n",
            "Increase the number of iterations (max_iter) or scale the data as shown in:\n",
            "    https://scikit-learn.org/stable/modules/preprocessing.html\n",
            "Please also refer to the documentation for alternative solver options:\n",
            "    https://scikit-learn.org/stable/modules/linear_model.html#logistic-regression\n",
            "  n_iter_i = _check_optimize_result(\n",
            "/usr/local/lib/python3.10/dist-packages/sklearn/linear_model/_logistic.py:458: ConvergenceWarning: lbfgs failed to converge (status=1):\n",
            "STOP: TOTAL NO. of ITERATIONS REACHED LIMIT.\n",
            "\n",
            "Increase the number of iterations (max_iter) or scale the data as shown in:\n",
            "    https://scikit-learn.org/stable/modules/preprocessing.html\n",
            "Please also refer to the documentation for alternative solver options:\n",
            "    https://scikit-learn.org/stable/modules/linear_model.html#logistic-regression\n",
            "  n_iter_i = _check_optimize_result(\n",
            "/usr/local/lib/python3.10/dist-packages/sklearn/linear_model/_logistic.py:458: ConvergenceWarning: lbfgs failed to converge (status=1):\n",
            "STOP: TOTAL NO. of ITERATIONS REACHED LIMIT.\n",
            "\n",
            "Increase the number of iterations (max_iter) or scale the data as shown in:\n",
            "    https://scikit-learn.org/stable/modules/preprocessing.html\n",
            "Please also refer to the documentation for alternative solver options:\n",
            "    https://scikit-learn.org/stable/modules/linear_model.html#logistic-regression\n",
            "  n_iter_i = _check_optimize_result(\n",
            "/usr/local/lib/python3.10/dist-packages/sklearn/linear_model/_logistic.py:458: ConvergenceWarning: lbfgs failed to converge (status=1):\n",
            "STOP: TOTAL NO. of ITERATIONS REACHED LIMIT.\n",
            "\n",
            "Increase the number of iterations (max_iter) or scale the data as shown in:\n",
            "    https://scikit-learn.org/stable/modules/preprocessing.html\n",
            "Please also refer to the documentation for alternative solver options:\n",
            "    https://scikit-learn.org/stable/modules/linear_model.html#logistic-regression\n",
            "  n_iter_i = _check_optimize_result(\n",
            "/usr/local/lib/python3.10/dist-packages/sklearn/linear_model/_logistic.py:458: ConvergenceWarning: lbfgs failed to converge (status=1):\n",
            "STOP: TOTAL NO. of ITERATIONS REACHED LIMIT.\n",
            "\n",
            "Increase the number of iterations (max_iter) or scale the data as shown in:\n",
            "    https://scikit-learn.org/stable/modules/preprocessing.html\n",
            "Please also refer to the documentation for alternative solver options:\n",
            "    https://scikit-learn.org/stable/modules/linear_model.html#logistic-regression\n",
            "  n_iter_i = _check_optimize_result(\n",
            "/usr/local/lib/python3.10/dist-packages/sklearn/linear_model/_logistic.py:458: ConvergenceWarning: lbfgs failed to converge (status=1):\n",
            "STOP: TOTAL NO. of ITERATIONS REACHED LIMIT.\n",
            "\n",
            "Increase the number of iterations (max_iter) or scale the data as shown in:\n",
            "    https://scikit-learn.org/stable/modules/preprocessing.html\n",
            "Please also refer to the documentation for alternative solver options:\n",
            "    https://scikit-learn.org/stable/modules/linear_model.html#logistic-regression\n",
            "  n_iter_i = _check_optimize_result(\n",
            "/usr/local/lib/python3.10/dist-packages/sklearn/linear_model/_logistic.py:458: ConvergenceWarning: lbfgs failed to converge (status=1):\n",
            "STOP: TOTAL NO. of ITERATIONS REACHED LIMIT.\n",
            "\n",
            "Increase the number of iterations (max_iter) or scale the data as shown in:\n",
            "    https://scikit-learn.org/stable/modules/preprocessing.html\n",
            "Please also refer to the documentation for alternative solver options:\n",
            "    https://scikit-learn.org/stable/modules/linear_model.html#logistic-regression\n",
            "  n_iter_i = _check_optimize_result(\n",
            "/usr/local/lib/python3.10/dist-packages/sklearn/linear_model/_logistic.py:458: ConvergenceWarning: lbfgs failed to converge (status=1):\n",
            "STOP: TOTAL NO. of ITERATIONS REACHED LIMIT.\n",
            "\n",
            "Increase the number of iterations (max_iter) or scale the data as shown in:\n",
            "    https://scikit-learn.org/stable/modules/preprocessing.html\n",
            "Please also refer to the documentation for alternative solver options:\n",
            "    https://scikit-learn.org/stable/modules/linear_model.html#logistic-regression\n",
            "  n_iter_i = _check_optimize_result(\n",
            "/usr/local/lib/python3.10/dist-packages/sklearn/linear_model/_logistic.py:458: ConvergenceWarning: lbfgs failed to converge (status=1):\n",
            "STOP: TOTAL NO. of ITERATIONS REACHED LIMIT.\n",
            "\n",
            "Increase the number of iterations (max_iter) or scale the data as shown in:\n",
            "    https://scikit-learn.org/stable/modules/preprocessing.html\n",
            "Please also refer to the documentation for alternative solver options:\n",
            "    https://scikit-learn.org/stable/modules/linear_model.html#logistic-regression\n",
            "  n_iter_i = _check_optimize_result(\n",
            "/usr/local/lib/python3.10/dist-packages/sklearn/linear_model/_logistic.py:458: ConvergenceWarning: lbfgs failed to converge (status=1):\n",
            "STOP: TOTAL NO. of ITERATIONS REACHED LIMIT.\n",
            "\n",
            "Increase the number of iterations (max_iter) or scale the data as shown in:\n",
            "    https://scikit-learn.org/stable/modules/preprocessing.html\n",
            "Please also refer to the documentation for alternative solver options:\n",
            "    https://scikit-learn.org/stable/modules/linear_model.html#logistic-regression\n",
            "  n_iter_i = _check_optimize_result(\n",
            "/usr/local/lib/python3.10/dist-packages/sklearn/linear_model/_logistic.py:458: ConvergenceWarning: lbfgs failed to converge (status=1):\n",
            "STOP: TOTAL NO. of ITERATIONS REACHED LIMIT.\n",
            "\n",
            "Increase the number of iterations (max_iter) or scale the data as shown in:\n",
            "    https://scikit-learn.org/stable/modules/preprocessing.html\n",
            "Please also refer to the documentation for alternative solver options:\n",
            "    https://scikit-learn.org/stable/modules/linear_model.html#logistic-regression\n",
            "  n_iter_i = _check_optimize_result(\n",
            "/usr/local/lib/python3.10/dist-packages/sklearn/linear_model/_logistic.py:458: ConvergenceWarning: lbfgs failed to converge (status=1):\n",
            "STOP: TOTAL NO. of ITERATIONS REACHED LIMIT.\n",
            "\n",
            "Increase the number of iterations (max_iter) or scale the data as shown in:\n",
            "    https://scikit-learn.org/stable/modules/preprocessing.html\n",
            "Please also refer to the documentation for alternative solver options:\n",
            "    https://scikit-learn.org/stable/modules/linear_model.html#logistic-regression\n",
            "  n_iter_i = _check_optimize_result(\n",
            "/usr/local/lib/python3.10/dist-packages/sklearn/linear_model/_logistic.py:458: ConvergenceWarning: lbfgs failed to converge (status=1):\n",
            "STOP: TOTAL NO. of ITERATIONS REACHED LIMIT.\n",
            "\n",
            "Increase the number of iterations (max_iter) or scale the data as shown in:\n",
            "    https://scikit-learn.org/stable/modules/preprocessing.html\n",
            "Please also refer to the documentation for alternative solver options:\n",
            "    https://scikit-learn.org/stable/modules/linear_model.html#logistic-regression\n",
            "  n_iter_i = _check_optimize_result(\n",
            "/usr/local/lib/python3.10/dist-packages/sklearn/linear_model/_logistic.py:458: ConvergenceWarning: lbfgs failed to converge (status=1):\n",
            "STOP: TOTAL NO. of ITERATIONS REACHED LIMIT.\n",
            "\n",
            "Increase the number of iterations (max_iter) or scale the data as shown in:\n",
            "    https://scikit-learn.org/stable/modules/preprocessing.html\n",
            "Please also refer to the documentation for alternative solver options:\n",
            "    https://scikit-learn.org/stable/modules/linear_model.html#logistic-regression\n",
            "  n_iter_i = _check_optimize_result(\n",
            "/usr/local/lib/python3.10/dist-packages/sklearn/model_selection/_validation.py:378: FitFailedWarning: \n",
            "15 fits failed out of a total of 30.\n",
            "The score on these train-test partitions for these parameters will be set to nan.\n",
            "If these failures are not expected, you can try to debug them by setting error_score='raise'.\n",
            "\n",
            "Below are more details about the failures:\n",
            "--------------------------------------------------------------------------------\n",
            "15 fits failed with the following error:\n",
            "Traceback (most recent call last):\n",
            "  File \"/usr/local/lib/python3.10/dist-packages/sklearn/model_selection/_validation.py\", line 686, in _fit_and_score\n",
            "    estimator.fit(X_train, y_train, **fit_params)\n",
            "  File \"/usr/local/lib/python3.10/dist-packages/sklearn/linear_model/_logistic.py\", line 1162, in fit\n",
            "    solver = _check_solver(self.solver, self.penalty, self.dual)\n",
            "  File \"/usr/local/lib/python3.10/dist-packages/sklearn/linear_model/_logistic.py\", line 54, in _check_solver\n",
            "    raise ValueError(\n",
            "ValueError: Solver lbfgs supports only 'l2' or 'none' penalties, got l1 penalty.\n",
            "\n",
            "  warnings.warn(some_fits_failed_message, FitFailedWarning)\n",
            "/usr/local/lib/python3.10/dist-packages/sklearn/model_selection/_search.py:952: UserWarning: One or more of the test scores are non-finite: [       nan 0.78081603        nan 0.78072151        nan 0.78074728]\n",
            "  warnings.warn(\n",
            "/usr/local/lib/python3.10/dist-packages/sklearn/linear_model/_logistic.py:458: ConvergenceWarning: lbfgs failed to converge (status=1):\n",
            "STOP: TOTAL NO. of ITERATIONS REACHED LIMIT.\n",
            "\n",
            "Increase the number of iterations (max_iter) or scale the data as shown in:\n",
            "    https://scikit-learn.org/stable/modules/preprocessing.html\n",
            "Please also refer to the documentation for alternative solver options:\n",
            "    https://scikit-learn.org/stable/modules/linear_model.html#logistic-regression\n",
            "  n_iter_i = _check_optimize_result(\n",
            "/usr/local/lib/python3.10/dist-packages/sklearn/linear_model/_logistic.py:458: ConvergenceWarning: lbfgs failed to converge (status=1):\n",
            "STOP: TOTAL NO. of ITERATIONS REACHED LIMIT.\n",
            "\n",
            "Increase the number of iterations (max_iter) or scale the data as shown in:\n",
            "    https://scikit-learn.org/stable/modules/preprocessing.html\n",
            "Please also refer to the documentation for alternative solver options:\n",
            "    https://scikit-learn.org/stable/modules/linear_model.html#logistic-regression\n",
            "  n_iter_i = _check_optimize_result(\n"
          ]
        },
        {
          "output_type": "stream",
          "name": "stdout",
          "text": [
            "Mejores hiperparámetros:  {'C': 0.1, 'penalty': 'l2'}\n",
            "Métricas de evaluación:\n",
            "Accuracy: 0.7803777670837344\n",
            "Precision: 0.47901234567901235\n",
            "AUC-ROC: 0.5026364278878812\n",
            "Matriz de confusión:\n",
            "[[90617   211]\n",
            " [25346   194]]\n"
          ]
        }
      ]
    },
    {
      "cell_type": "code",
      "source": [
        "# Crea una instancia del modelo de Regresión Logística con los mejores hiperparámetros\n",
        "mejor_modelo = LogisticRegression(C=0.1, penalty='l2')\n",
        "\n",
        "# Separo el dataframe con los features de la variable objetivo\n",
        "X = rain_test.drop('RainTomorrow', axis=1)\n",
        "y = rain_test['RainTomorrow']\n",
        "\n",
        "# Dividir los datos en conjuntos de entrenamiento y prueba\n",
        "X_train, X_test, y_train, y_test = train_test_split(X, y, test_size=0.2, random_state=42)\n",
        "\n",
        "# Entrena el modelo con los datos de entrenamiento\n",
        "mejor_modelo.fit(X_train, y_train)\n",
        "\n",
        "# Realiza predicciones en el conjunto de prueba\n",
        "y_pred = mejor_modelo.predict(X_test)\n",
        "\n",
        "# Calcula las métricas de evaluación\n",
        "accuracy = accuracy_score(y_test, y_pred)\n",
        "precision = precision_score(y_test, y_pred)\n",
        "auc_roc = roc_auc_score(y_test, y_pred)\n",
        "confusion_mat = confusion_matrix(y_test, y_pred)\n",
        "\n",
        "# Imprime las métricas de evaluación\n",
        "print(\"Accuracy\", accuracy)\n",
        "print(\"Precisión: {:.2f}%\".format(precision * 100))\n",
        "print(\"AUC-ROC: {:.2f}\".format(auc_roc))\n",
        "print(\"Matriz de confusión:\")\n",
        "print(confusion_mat)\n"
      ],
      "metadata": {
        "colab": {
          "base_uri": "https://localhost:8080/"
        },
        "id": "31XL5Okz3Bb_",
        "outputId": "b7df2f22-7f98-488b-b1e7-d94a600bb511"
      },
      "execution_count": null,
      "outputs": [
        {
          "output_type": "stream",
          "name": "stdout",
          "text": [
            "Accuracy 0.7963567623302973\n",
            "Precisión: 52.87%\n",
            "AUC-ROC: 0.51\n",
            "Matriz de confusión:\n",
            "[[4588   41]\n",
            " [1144   46]]\n"
          ]
        },
        {
          "output_type": "stream",
          "name": "stderr",
          "text": [
            "/usr/local/lib/python3.10/dist-packages/sklearn/linear_model/_logistic.py:458: ConvergenceWarning: lbfgs failed to converge (status=1):\n",
            "STOP: TOTAL NO. of ITERATIONS REACHED LIMIT.\n",
            "\n",
            "Increase the number of iterations (max_iter) or scale the data as shown in:\n",
            "    https://scikit-learn.org/stable/modules/preprocessing.html\n",
            "Please also refer to the documentation for alternative solver options:\n",
            "    https://scikit-learn.org/stable/modules/linear_model.html#logistic-regression\n",
            "  n_iter_i = _check_optimize_result(\n"
          ]
        }
      ]
    },
    {
      "cell_type": "markdown",
      "source": [
        "## Decision Tree"
      ],
      "metadata": {
        "id": "bzNgrFYzm_Mm"
      }
    },
    {
      "cell_type": "markdown",
      "source": [
        "### DecisionTree v1"
      ],
      "metadata": {
        "id": "FNNWg1PbtAzh"
      }
    },
    {
      "cell_type": "code",
      "source": [
        "# Dividir los datos en características (X) y variable objetivo (y)\n",
        "X = rain_train.drop('RainTomorrow', axis=1)\n",
        "y = rain_train['RainTomorrow']\n",
        "\n",
        "# Dividir los datos en conjuntos de entrenamiento y prueba\n",
        "X_train, X_test, y_train, y_test = train_test_split(X, y, test_size=0.2, random_state=42)\n",
        "\n",
        "# Crear y ajustar el modelo del árbol de decisión\n",
        "model = DecisionTreeClassifier()\n",
        "model.fit(X_train, y_train)\n",
        "\n",
        "# Realizar predicciones en el conjunto de prueba\n",
        "y_pred = model.predict(X_test)\n",
        "\n",
        "# Calcular las métricas\n",
        "accuracy = accuracy_score(y_test, y_pred)\n",
        "precision = precision_score(y_test, y_pred)\n",
        "auc_roc = roc_auc_score(y_test, y_pred)\n",
        "confusion = confusion_matrix(y_test, y_pred)\n",
        "\n",
        "# Imprimir las métricas\n",
        "print(\"Accuracy:\", accuracy)\n",
        "print(\"Precision:\", precision)\n",
        "print(\"AUC-ROC:\", auc_roc)\n",
        "print(\"Confusion Matrix:\")\n",
        "print(confusion)\n"
      ],
      "metadata": {
        "colab": {
          "base_uri": "https://localhost:8080/"
        },
        "id": "kx_a_ISVnBYC",
        "outputId": "b69d5678-921e-438b-b05d-5766e1b7d75b"
      },
      "execution_count": null,
      "outputs": [
        {
          "output_type": "stream",
          "name": "stdout",
          "text": [
            "Accuracy: 0.7064965197215777\n",
            "Precision: 0.34459955914768553\n",
            "AUC-ROC: 0.5841524719497716\n",
            "Confusion Matrix:\n",
            "[[14567  3568]\n",
            " [ 3263  1876]]\n"
          ]
        }
      ]
    },
    {
      "cell_type": "code",
      "source": [
        "# Crea una instancia del modelo de DecisionTree\n",
        "mejor_modelo = DecisionTreeClassifier()\n",
        "\n",
        "# Separo el dataframe con los features de la variable objetivo\n",
        "X = rain_test.drop('RainTomorrow', axis=1)\n",
        "y = rain_test['RainTomorrow']\n",
        "\n",
        "# Dividir los datos en conjuntos de entrenamiento y prueba\n",
        "X_train, X_test, y_train, y_test = train_test_split(X, y, test_size=0.2, random_state=42)\n",
        "\n",
        "# Entrena el modelo con los datos de entrenamiento\n",
        "mejor_modelo.fit(X_train, y_train)\n",
        "\n",
        "# Realiza predicciones en el conjunto de prueba\n",
        "y_pred = mejor_modelo.predict(X_test)\n",
        "\n",
        "# Calcula las métricas de evaluación\n",
        "accuracy = accuracy_score(y_test, y_pred)\n",
        "precision = precision_score(y_test, y_pred)\n",
        "auc_roc = roc_auc_score(y_test, y_pred)\n",
        "confusion_mat = confusion_matrix(y_test, y_pred)\n",
        "\n",
        "# Imprime las métricas de evaluación\n",
        "print(\"Accuracy\", accuracy)\n",
        "print(\"Precisión: {:.2f}%\".format(precision * 100))\n",
        "print(\"AUC-ROC: {:.2f}\".format(auc_roc))\n",
        "print(\"Matriz de confusión:\")\n",
        "print(confusion_mat)\n"
      ],
      "metadata": {
        "colab": {
          "base_uri": "https://localhost:8080/"
        },
        "id": "r1kG1PTCsn6Z",
        "outputId": "d018d36f-f198-4102-fbcc-a77fb46ef112"
      },
      "execution_count": null,
      "outputs": [
        {
          "output_type": "stream",
          "name": "stdout",
          "text": [
            "Accuracy 0.7023543564186286\n",
            "Precisión: 29.72%\n",
            "AUC-ROC: 0.57\n",
            "Matriz de confusión:\n",
            "[[3690  939]\n",
            " [ 793  397]]\n"
          ]
        }
      ]
    },
    {
      "cell_type": "markdown",
      "source": [
        "### DecisionTree v2"
      ],
      "metadata": {
        "id": "lQlc1_6qtEOA"
      }
    },
    {
      "cell_type": "code",
      "source": [
        "# Dividir los datos en características (X) y variable objetivo (y)\n",
        "X = rain_train.drop('RainTomorrow', axis=1)\n",
        "y = rain_train['RainTomorrow']\n",
        "\n",
        "# Dividir los datos en conjuntos de entrenamiento y prueba\n",
        "X_train, X_test, y_train, y_test = train_test_split(X, y, test_size=0.2, random_state=42)\n",
        "\n",
        "# Definir los hiperparámetros que deseas probar\n",
        "param_grid = {\n",
        "    'criterion': ['gini', 'entropy'],\n",
        "    'max_depth': [None, 5, 10, 20],\n",
        "    'min_samples_split': [2, 5, 10],\n",
        "    'min_samples_leaf': [1, 2, 4]\n",
        "}\n",
        "\n",
        "# Crear el modelo del árbol de decisión\n",
        "model = DecisionTreeClassifier()\n",
        "\n",
        "# Realizar la búsqueda de hiperparámetros mediante validación cruzada\n",
        "grid_search = GridSearchCV(model, param_grid, scoring='accuracy', cv=5)\n",
        "grid_search.fit(X_train, y_train)\n",
        "\n",
        "# Obtener los mejores hiperparámetros encontrados\n",
        "best_params = grid_search.best_params_\n",
        "print(\"Mejores hiperparámetros:\", best_params)\n",
        "\n",
        "# Entrenar el modelo con los mejores hiperparámetros en todo el conjunto de entrenamiento\n",
        "best_model = DecisionTreeClassifier(**best_params)\n",
        "best_model.fit(X_train, y_train)\n",
        "\n",
        "# Realizar predicciones en el conjunto de prueba con el mejor modelo\n",
        "y_pred = best_model.predict(X_test)\n",
        "\n",
        "# Calcular las métricas con el mejor modelo\n",
        "accuracy = accuracy_score(y_test, y_pred)\n",
        "precision = precision_score(y_test, y_pred)\n",
        "auc_roc = roc_auc_score(y_test, y_pred)\n",
        "confusion = confusion_matrix(y_test, y_pred)\n",
        "\n",
        "# Imprimir las métricas con el mejor modelo\n",
        "print(\"Accuracy:\", accuracy)\n",
        "print(\"Precision:\", precision)\n",
        "print(\"AUC-ROC:\", auc_roc)\n",
        "print(\"Confusion Matrix:\")\n",
        "print(confusion)\n"
      ],
      "metadata": {
        "colab": {
          "base_uri": "https://localhost:8080/"
        },
        "id": "XRQ2qKVbtGdD",
        "outputId": "b60f99e9-4b51-417f-f1a0-57fd4938dd75"
      },
      "execution_count": null,
      "outputs": [
        {
          "output_type": "stream",
          "name": "stdout",
          "text": [
            "Mejores hiperparámetros: {'criterion': 'entropy', 'max_depth': 5, 'min_samples_leaf': 1, 'min_samples_split': 2}\n",
            "Accuracy: 0.7863710578327747\n",
            "Precision: 0.5540453074433657\n",
            "AUC-ROC: 0.5642882699659153\n",
            "Confusion Matrix:\n",
            "[[17446   689]\n",
            " [ 4283   856]]\n"
          ]
        }
      ]
    },
    {
      "cell_type": "code",
      "source": [
        "# Crea una instancia del modelo de DecisionTree\n",
        "mejor_modelo = DecisionTreeClassifier(criterion = 'entropy', max_depth = 5, min_samples_leaf = 1, min_samples_split = 2)\n",
        "\n",
        "# Separo el dataframe con los features de la variable objetivo\n",
        "X = rain_test.drop('RainTomorrow', axis=1)\n",
        "y = rain_test['RainTomorrow']\n",
        "\n",
        "# Dividir los datos en conjuntos de entrenamiento y prueba\n",
        "X_train, X_test, y_train, y_test = train_test_split(X, y, test_size=0.2, random_state=42)\n",
        "\n",
        "# Entrena el modelo con los datos de entrenamiento\n",
        "mejor_modelo.fit(X_train, y_train)\n",
        "\n",
        "# Realiza predicciones en el conjunto de prueba\n",
        "y_pred = mejor_modelo.predict(X_test)\n",
        "\n",
        "# Calcula las métricas de evaluación\n",
        "accuracy = accuracy_score(y_test, y_pred)\n",
        "precision = precision_score(y_test, y_pred)\n",
        "auc_roc = roc_auc_score(y_test, y_pred)\n",
        "confusion_mat = confusion_matrix(y_test, y_pred)\n",
        "\n",
        "# Imprime las métricas de evaluación\n",
        "print(\"Accuracy\", accuracy)\n",
        "print(\"Precisión: {:.2f}%\".format(precision * 100))\n",
        "print(\"AUC-ROC: {:.2f}\".format(auc_roc))\n",
        "print(\"Matriz de confusión:\")\n",
        "print(confusion_mat)"
      ],
      "metadata": {
        "colab": {
          "base_uri": "https://localhost:8080/"
        },
        "id": "umazyElUwAXY",
        "outputId": "d288ea51-618f-444e-ac75-df4541dbe451"
      },
      "execution_count": null,
      "outputs": [
        {
          "output_type": "stream",
          "name": "stdout",
          "text": [
            "Accuracy 0.7979034198315862\n",
            "Precisión: 51.72%\n",
            "AUC-ROC: 0.57\n",
            "Matriz de confusión:\n",
            "[[4432  197]\n",
            " [ 979  211]]\n"
          ]
        }
      ]
    },
    {
      "cell_type": "markdown",
      "source": [
        "## Random Forrest"
      ],
      "metadata": {
        "id": "qD-HJA3pxPmw"
      }
    },
    {
      "cell_type": "code",
      "source": [
        "# Dividir los datos en características (X) y variable objetivo (y)\n",
        "X = rain_train.drop('RainTomorrow', axis=1)\n",
        "y = rain_train['RainTomorrow']\n",
        "\n",
        "# Dividir los datos en conjuntos de entrenamiento y prueba\n",
        "X_train, X_test, y_train, y_test = train_test_split(X, y, test_size=0.2, random_state=42)\n",
        "\n",
        "# Definir los hiperparámetros que deseas probar\n",
        "param_grid = {\n",
        "    'n_estimators': [100, 200, 300],\n",
        "    'criterion': ['gini', 'entropy'],\n",
        "    'max_depth': [None, 5, 10],\n",
        "    'min_samples_split': [2, 5],\n",
        "    'min_samples_leaf': [1, 2]\n",
        "}\n",
        "\n",
        "# Crear el modelo de Random Forest\n",
        "model = RandomForestClassifier()\n",
        "\n",
        "# Realizar la búsqueda de hiperparámetros mediante validación cruzada\n",
        "grid_search = GridSearchCV(model, param_grid, scoring='accuracy', cv=5)\n",
        "grid_search.fit(X_train, y_train)\n",
        "\n",
        "# Obtener los mejores hiperparámetros encontrados\n",
        "best_params = grid_search.best_params_\n",
        "print(\"Mejores hiperparámetros:\", best_params)\n",
        "\n",
        "# Entrenar el modelo con los mejores hiperparámetros en todo el conjunto de entrenamiento\n",
        "best_model = RandomForestClassifier(**best_params)\n",
        "best_model.fit(X_train, y_train)\n",
        "\n",
        "# Realizar predicciones en el conjunto de prueba con el mejor modelo\n",
        "y_pred = best_model.predict(X_test)\n",
        "\n",
        "# Calcular las métricas con el mejor modelo\n",
        "accuracy = accuracy_score(y_test, y_pred)\n",
        "precision = precision_score(y_test, y_pred)\n",
        "auc_roc = roc_auc_score(y_test, y_pred)\n",
        "confusion = confusion_matrix(y_test, y_pred)\n",
        "\n",
        "# Imprimir las métricas con el mejor modelo\n",
        "print(\"Accuracy:\", accuracy)\n",
        "print(\"Precision:\", precision)\n",
        "print(\"AUC-ROC:\", auc_roc)\n",
        "print(\"Confusion Matrix:\")\n",
        "print(confusion)\n"
      ],
      "metadata": {
        "colab": {
          "base_uri": "https://localhost:8080/"
        },
        "id": "lTiYPhM6xTBZ",
        "outputId": "35b8ed7c-96c3-435d-8688-690fdc8ddb42"
      },
      "execution_count": null,
      "outputs": [
        {
          "output_type": "stream",
          "name": "stdout",
          "text": [
            "Mejores hiperparámetros: {'criterion': 'gini', 'max_depth': None, 'min_samples_leaf': 2, 'min_samples_split': 5, 'n_estimators': 300}\n",
            "Accuracy: 0.7938901778808971\n",
            "Precision: 0.6094750320102432\n",
            "AUC-ROC: 0.5758067171829105\n",
            "Confusion Matrix:\n",
            "[[17525   610]\n",
            " [ 4187   952]]\n"
          ]
        }
      ]
    },
    {
      "cell_type": "code",
      "source": [
        "# Crea una instancia del modelo de DecisionTree\n",
        "mejor_modelo = RandomForestClassifier(criterion = 'gini', max_depth = None, min_samples_leaf = 2, min_samples_split = 5, n_estimators = 300)\n",
        "\n",
        "# Separo el dataframe con los features de la variable objetivo\n",
        "X = rain_test.drop('RainTomorrow', axis=1)\n",
        "y = rain_test['RainTomorrow']\n",
        "\n",
        "# Dividir los datos en conjuntos de entrenamiento y prueba\n",
        "X_train, X_test, y_train, y_test = train_test_split(X, y, test_size=0.2, random_state=42)\n",
        "\n",
        "# Entrena el modelo con los datos de entrenamiento\n",
        "mejor_modelo.fit(X_train, y_train)\n",
        "\n",
        "# Realiza predicciones en el conjunto de prueba\n",
        "y_pred = mejor_modelo.predict(X_test)\n",
        "\n",
        "# Calcula las métricas de evaluación\n",
        "accuracy = accuracy_score(y_test, y_pred)\n",
        "precision = precision_score(y_test, y_pred)\n",
        "auc_roc = roc_auc_score(y_test, y_pred)\n",
        "confusion_mat = confusion_matrix(y_test, y_pred)\n",
        "\n",
        "# Imprime las métricas de evaluación\n",
        "print(\"Accuracy\", accuracy)\n",
        "print(\"Precisión: {:.2f}%\".format(precision * 100))\n",
        "print(\"AUC-ROC: {:.2f}\".format(auc_roc))\n",
        "print(\"Matriz de confusión:\")\n",
        "print(confusion_mat)"
      ],
      "metadata": {
        "colab": {
          "base_uri": "https://localhost:8080/"
        },
        "id": "scrOqIfVrnyF",
        "outputId": "be7c1a52-a431-4123-875d-4e7f07cd9e94"
      },
      "execution_count": null,
      "outputs": [
        {
          "output_type": "stream",
          "name": "stdout",
          "text": [
            "Accuracy 0.8027152431689294\n",
            "Precisión: 55.38%\n",
            "AUC-ROC: 0.57\n",
            "Matriz de confusión:\n",
            "[[4455  174]\n",
            " [ 974  216]]\n"
          ]
        }
      ]
    },
    {
      "cell_type": "markdown",
      "source": [
        "## Gradient Boosting"
      ],
      "metadata": {
        "id": "lkDIqEh7ZTIg"
      }
    },
    {
      "cell_type": "markdown",
      "source": [
        "### Gradient Boosting v1"
      ],
      "metadata": {
        "id": "uTToHPN2KJLj"
      }
    },
    {
      "cell_type": "code",
      "source": [
        "# Dividir los datos en características (X) y variable objetivo (y)\n",
        "X = rain_train.drop('RainTomorrow', axis=1)\n",
        "y = rain_train['RainTomorrow']\n",
        "\n",
        "# Dividir los datos en conjuntos de entrenamiento y prueba\n",
        "X_train, X_test, y_train, y_test = train_test_split(X, y, test_size=0.2, random_state=42)\n",
        "\n",
        "# Crear y ajustar el modelo del árbol de decisión\n",
        "model = GradientBoostingClassifier()\n",
        "model.fit(X_train, y_train)\n",
        "\n",
        "# Realizar predicciones en el conjunto de prueba\n",
        "y_pred = model.predict(X_test)\n",
        "\n",
        "# Calcular las métricas\n",
        "accuracy = accuracy_score(y_test, y_pred)\n",
        "precision = precision_score(y_test, y_pred)\n",
        "auc_roc = roc_auc_score(y_test, y_pred)\n",
        "confusion = confusion_matrix(y_test, y_pred)\n",
        "\n",
        "# Imprimir las métricas\n",
        "print(\"Accuracy:\", accuracy)\n",
        "print(\"Precision:\", precision)\n",
        "print(\"AUC-ROC:\", auc_roc)\n",
        "print(\"Confusion Matrix:\")\n",
        "print(confusion)\n"
      ],
      "metadata": {
        "colab": {
          "base_uri": "https://localhost:8080/"
        },
        "id": "yI_d9eBWKD6K",
        "outputId": "04ac1742-272f-4015-cf4e-8c076f7b5984"
      },
      "execution_count": null,
      "outputs": [
        {
          "output_type": "stream",
          "name": "stdout",
          "text": [
            "Accuracy: 0.7890779410500989\n",
            "Precision: 0.5855654761904762\n",
            "AUC-ROC: 0.5612142729876191\n",
            "Confusion Matrix:\n",
            "[[17578   557]\n",
            " [ 4352   787]]\n"
          ]
        }
      ]
    },
    {
      "cell_type": "code",
      "source": [
        "# Crea una instancia del modelo de DecisionTree\n",
        "mejor_modelo = GradientBoostingClassifier()\n",
        "\n",
        "# Separo el dataframe con los features de la variable objetivo\n",
        "X = rain_test.drop('RainTomorrow', axis=1)\n",
        "y = rain_test['RainTomorrow']\n",
        "\n",
        "# Dividir los datos en conjuntos de entrenamiento y prueba\n",
        "X_train, X_test, y_train, y_test = train_test_split(X, y, test_size=0.2, random_state=42)\n",
        "\n",
        "# Entrena el modelo con los datos de entrenamiento\n",
        "mejor_modelo.fit(X_train, y_train)\n",
        "\n",
        "# Realiza predicciones en el conjunto de prueba\n",
        "y_pred = mejor_modelo.predict(X_test)\n",
        "\n",
        "# Calcula las métricas de evaluación\n",
        "accuracy = accuracy_score(y_test, y_pred)\n",
        "precision = precision_score(y_test, y_pred)\n",
        "auc_roc = roc_auc_score(y_test, y_pred)\n",
        "confusion_mat = confusion_matrix(y_test, y_pred)\n",
        "\n",
        "# Imprime las métricas de evaluación\n",
        "print(\"Accuracy\", accuracy)\n",
        "print(\"Precisión: {:.2f}%\".format(precision * 100))\n",
        "print(\"AUC-ROC: {:.2f}\".format(auc_roc))\n",
        "print(\"Matriz de confusión:\")\n",
        "print(confusion_mat)"
      ],
      "metadata": {
        "colab": {
          "base_uri": "https://localhost:8080/"
        },
        "id": "cvknzkzkLOvV",
        "outputId": "6053c979-7ed0-4d52-b82e-a2db4bcfbe80"
      },
      "execution_count": null,
      "outputs": [
        {
          "output_type": "stream",
          "name": "stdout",
          "text": [
            "Accuracy 0.803230795669359\n",
            "Precisión: 57.73%\n",
            "AUC-ROC: 0.56\n",
            "Matriz de confusión:\n",
            "[[4506  123]\n",
            " [1022  168]]\n"
          ]
        }
      ]
    },
    {
      "cell_type": "markdown",
      "source": [
        "## XGBoost"
      ],
      "metadata": {
        "id": "JtxCt2dotLOh"
      }
    },
    {
      "cell_type": "markdown",
      "source": [
        "### XGBoost v1"
      ],
      "metadata": {
        "id": "T_ejqeJHtYEY"
      }
    },
    {
      "cell_type": "code",
      "source": [
        "rain_train['week'] = rain_train['week'].astype(float)\n",
        "\n",
        "# Dividir los datos en características (X) y variable objetivo (y)\n",
        "X = rain_train.drop('RainTomorrow', axis=1)\n",
        "y = rain_train['RainTomorrow']\n",
        "\n",
        "# Dividir los datos en conjuntos de entrenamiento y prueba\n",
        "X_train, X_test, y_train, y_test = train_test_split(X, y, test_size=0.2, random_state=42)\n",
        "\n",
        "# Crear y ajustar el modelo del árbol de decisión\n",
        "model = xgb.XGBClassifier()\n",
        "model.fit(X_train, y_train)\n",
        "\n",
        "# Realizar predicciones en el conjunto de prueba\n",
        "y_pred = model.predict(X_test)\n",
        "\n",
        "# Calcular las métricas\n",
        "accuracy = accuracy_score(y_test, y_pred)\n",
        "precision = precision_score(y_test, y_pred)\n",
        "auc_roc = roc_auc_score(y_test, y_pred)\n",
        "confusion = confusion_matrix(y_test, y_pred)\n",
        "\n",
        "# Imprimir las métricas\n",
        "print(\"Accuracy:\", accuracy)\n",
        "print(\"Precision:\", precision)\n",
        "print(\"AUC-ROC:\", auc_roc)\n",
        "print(\"Confusion Matrix:\")\n",
        "print(confusion)"
      ],
      "metadata": {
        "colab": {
          "base_uri": "https://localhost:8080/"
        },
        "id": "_vOmNNnotlg4",
        "outputId": "7bc5c900-9912-46d4-a1e6-8b007ab84c15"
      },
      "execution_count": null,
      "outputs": [
        {
          "output_type": "stream",
          "name": "stdout",
          "text": [
            "Accuracy: 0.7964681618973962\n",
            "Precision: 0.5953510436432637\n",
            "AUC-ROC: 0.5985874089879514\n",
            "Confusion Matrix:\n",
            "[[17282   853]\n",
            " [ 3884  1255]]\n"
          ]
        }
      ]
    },
    {
      "cell_type": "code",
      "source": [
        "rain_test['week'] = rain_test['week'].astype(float)\n",
        "\n",
        "# Crea una instancia del modelo de DecisionTree\n",
        "mejor_modelo = xgb.XGBClassifier()\n",
        "\n",
        "# Separo el dataframe con los features de la variable objetivo\n",
        "X = rain_test.drop('RainTomorrow', axis=1)\n",
        "y = rain_test['RainTomorrow']\n",
        "\n",
        "# Dividir los datos en conjuntos de entrenamiento y prueba\n",
        "X_train, X_test, y_train, y_test = train_test_split(X, y, test_size=0.2, random_state=42)\n",
        "\n",
        "# Entrena el modelo con los datos de entrenamiento\n",
        "mejor_modelo.fit(X_train, y_train)\n",
        "\n",
        "# Realiza predicciones en el conjunto de prueba\n",
        "y_pred = mejor_modelo.predict(X_test)\n",
        "\n",
        "# Calcula las métricas de evaluación\n",
        "accuracy = accuracy_score(y_test, y_pred)\n",
        "precision = precision_score(y_test, y_pred)\n",
        "auc_roc = roc_auc_score(y_test, y_pred)\n",
        "confusion_mat = confusion_matrix(y_test, y_pred)\n",
        "\n",
        "# Imprime las métricas de evaluación\n",
        "print(\"Accuracy\", accuracy)\n",
        "print(\"Precisión: {:.2f}%\".format(precision * 100))\n",
        "print(\"AUC-ROC: {:.2f}\".format(auc_roc))\n",
        "print(\"Matriz de confusión:\")\n",
        "print(confusion_mat)\n"
      ],
      "metadata": {
        "colab": {
          "base_uri": "https://localhost:8080/"
        },
        "id": "ueMGE0i0vFjR",
        "outputId": "278b2719-bca3-427d-82ed-1871f2f84ea4"
      },
      "execution_count": null,
      "outputs": [
        {
          "output_type": "stream",
          "name": "stdout",
          "text": [
            "Accuracy 0.8025433923354528\n",
            "Precisión: 53.57%\n",
            "AUC-ROC: 0.60\n",
            "Matriz de confusión:\n",
            "[[4362  267]\n",
            " [ 882  308]]\n"
          ]
        }
      ]
    },
    {
      "cell_type": "markdown",
      "source": [
        "### XGBoost v2"
      ],
      "metadata": {
        "id": "kL1ZsJZUtbzB"
      }
    },
    {
      "cell_type": "code",
      "source": [
        "# Dividir los datos en características (X) y variable objetivo (y)\n",
        "X = rain_test.drop('RainTomorrow', axis=1)\n",
        "y = rain['RainTomorrow']\n",
        "\n",
        "# Dividir los datos en conjuntos de entrenamiento y prueba\n",
        "X_train, X_test, y_train, y_test = train_test_split(X, y, test_size=0.2, random_state=42)\n",
        "\n",
        "# Definir los hiperparámetros que deseas probar\n",
        "param_grid = {\n",
        "    'learning_rate': [0.1, 0.01],\n",
        "    'n_estimators': [100, 200, 300],\n",
        "    'max_depth': [3, 5, 10],\n",
        "    'min_child_weight': [1, 2],\n",
        "    'subsample': [0.8, 1.0],\n",
        "    'colsample_bytree': [0.8, 1.0]\n",
        "}\n",
        "\n",
        "# Crear el modelo de XGBoost\n",
        "model = xgb.XGBClassifier()\n",
        "\n",
        "# Realizar la búsqueda de hiperparámetros mediante validación cruzada\n",
        "grid_search = GridSearchCV(model, param_grid, scoring='accuracy', cv=5)\n",
        "grid_search.fit(X_train, y_train)\n",
        "\n",
        "# Obtener los mejores hiperparámetros encontrados\n",
        "best_params = grid_search.best_params_\n",
        "print(\"Mejores hiperparámetros:\", best_params)\n",
        "\n",
        "# Entrenar el modelo con los mejores hiperparámetros en todo el conjunto de entrenamiento\n",
        "best_model = xgb.XGBClassifier(**best_params)\n",
        "best_model.fit(X_train, y_train)\n",
        "\n",
        "# Realizar predicciones en el conjunto de prueba con el mejor modelo\n",
        "y_pred = best_model.predict(X_test)"
      ],
      "metadata": {
        "id": "dBWC51x15rnZ"
      },
      "execution_count": null,
      "outputs": []
    },
    {
      "cell_type": "markdown",
      "source": [
        "Mejores hiperparámetros obtenidos por GridSearch en train:\n",
        "\n",
        "\n",
        "> learning_rate = 0.01, n_estimators = 150, max_depth = 5, min_child_weight = 1, subsample = 1.0, colsample_bytree = 0.8"
      ],
      "metadata": {
        "id": "MOi5SCc6-hVE"
      }
    },
    {
      "cell_type": "code",
      "source": [
        "rain_test['week'] = rain_test['week'].astype(float)\n",
        "\n",
        "# Crea una instancia del modelo de DecisionTree\n",
        "mejor_modelo = xgb.XGBClassifier(learning_rate = 0.01, n_estimators = 150, max_depth = 5, min_child_weight = 1, subsample = 1.0, colsample_bytree = 0.8)\n",
        "\n",
        "# Separo el dataframe con los features de la variable objetivo\n",
        "X = rain_test.drop('RainTomorrow', axis=1)\n",
        "y = rain_test['RainTomorrow']\n",
        "\n",
        "# Dividir los datos en conjuntos de entrenamiento y prueba\n",
        "X_train, X_test, y_train, y_test = train_test_split(X, y, test_size=0.2, random_state=42)\n",
        "\n",
        "# Entrena el modelo con los datos de entrenamiento\n",
        "mejor_modelo.fit(X_train, y_train)\n",
        "\n",
        "# Realiza predicciones en el conjunto de prueba\n",
        "y_pred = mejor_modelo.predict(X_test)\n",
        "\n",
        "# Calcula las métricas de evaluación\n",
        "accuracy = accuracy_score(y_test, y_pred)\n",
        "precision = precision_score(y_test, y_pred)\n",
        "auc_roc = roc_auc_score(y_test, y_pred)\n",
        "confusion_mat = confusion_matrix(y_test, y_pred)\n",
        "\n",
        "# Imprime las métricas de evaluación\n",
        "print(\"Accuracy\", accuracy)\n",
        "print(\"Precisión: {:.2f}%\".format(precision * 100))\n",
        "print(\"AUC-ROC: {:.2f}\".format(auc_roc))\n",
        "print(\"Matriz de confusión:\")\n",
        "print(confusion_mat)"
      ],
      "metadata": {
        "colab": {
          "base_uri": "https://localhost:8080/"
        },
        "id": "ztgrSZX0tPTt",
        "outputId": "4eab206e-59e8-460d-9f36-736668f09b3a"
      },
      "execution_count": null,
      "outputs": [
        {
          "output_type": "stream",
          "name": "stdout",
          "text": [
            "Accuracy 0.805464856504554\n",
            "Precisión: 60.51%\n",
            "AUC-ROC: 0.56\n",
            "Matriz de confusión:\n",
            "[[4520  109]\n",
            " [1023  167]]\n"
          ]
        }
      ]
    },
    {
      "cell_type": "code",
      "source": [
        "# Entrenar el modelo XGBoost\n",
        "model = xgb.XGBClassifier(learning_rate = 0.01, n_estimators = 150, max_depth = 5, min_child_weight = 1, subsample = 1.0, colsample_bytree = 0.8)\n",
        "\n",
        "X = rain_test.drop('RainTomorrow', axis=1)\n",
        "y = rain_test['RainTomorrow']\n",
        "\n",
        "model.fit(X, y)\n",
        "\n",
        "# Obtener la importancia de las características\n",
        "feature_importance = model.feature_importances_\n",
        "\n",
        "# Crear un DataFrame con las características y su importancia\n",
        "df_importance = pd.DataFrame({'Feature': X.columns, 'Importance': feature_importance})\n",
        "\n",
        "# Ordenar el DataFrame por importancia de mayor a menor\n",
        "df_importance = df_importance.sort_values(by='Importance', ascending=False)\n",
        "\n",
        "# Imprimir el DataFrame ordenado\n",
        "print(df_importance)"
      ],
      "metadata": {
        "colab": {
          "base_uri": "https://localhost:8080/"
        },
        "id": "Wu_5rIR1APou",
        "outputId": "7482a83a-7165-4115-9625-7db0c1adfb8a"
      },
      "execution_count": null,
      "outputs": [
        {
          "output_type": "stream",
          "name": "stdout",
          "text": [
            "               Feature  Importance\n",
            "21           RainToday    0.567646\n",
            "22          RainStreak    0.221223\n",
            "23       RainLast7Days    0.027258\n",
            "28            estacion    0.010608\n",
            "1             Location    0.010495\n",
            "30            latitude    0.010364\n",
            "31           longitude    0.007513\n",
            "4             Rainfall    0.007070\n",
            "7          WindGustDir    0.006737\n",
            "29                week    0.006643\n",
            "14         Humidity3pm    0.006488\n",
            "2              MinTemp    0.006210\n",
            "20             Temp3pm    0.006042\n",
            "3              MaxTemp    0.005930\n",
            "8        WindGustSpeed    0.005819\n",
            "18            Cloud3pm    0.005749\n",
            "15         Pressure9am    0.005692\n",
            "34  city_is_near_coast    0.005654\n",
            "16         Pressure3pm    0.005597\n",
            "5          Evaporation    0.005500\n",
            "32    location_cluster    0.005430\n",
            "19             Temp9am    0.005239\n",
            "11        WindSpeed9am    0.005183\n",
            "26               month    0.005048\n",
            "9           WindDir9am    0.004519\n",
            "24           day_month    0.004459\n",
            "13         Humidity9am    0.004455\n",
            "6             Sunshine    0.004324\n",
            "12        WindSpeed3pm    0.004240\n",
            "0                 Date    0.004172\n",
            "17            Cloud9am    0.004114\n",
            "27                year    0.004070\n",
            "33        popular_city    0.003880\n",
            "25             weekday    0.003474\n",
            "10          WindDir3pm    0.003151\n"
          ]
        }
      ]
    },
    {
      "cell_type": "markdown",
      "source": [
        "## Mejores Modelos"
      ],
      "metadata": {
        "id": "CsQrheKntDTx"
      }
    },
    {
      "cell_type": "markdown",
      "source": [
        "\n",
        "\n",
        "```\n",
        "XGBoost\n",
        "\n",
        "Accuracy 0.805464856504554\n",
        "Precisión: 60.51%\n",
        "AUC-ROC: 0.56\n",
        "```\n",
        "\n"
      ],
      "metadata": {
        "id": "rOVAGsrWumKr"
      }
    },
    {
      "cell_type": "markdown",
      "source": [
        "\n",
        "\n",
        "```\n",
        "Gradient Boosting\n",
        "\n",
        "Accuracy 0.803230795669359\n",
        "Precisión: 57.73%\n",
        "AUC-ROC: 0.56\n",
        "\n",
        "```\n",
        "\n"
      ],
      "metadata": {
        "id": "ah9rTv8mmKCY"
      }
    },
    {
      "cell_type": "markdown",
      "source": [
        "\n",
        "\n",
        "```\n",
        "Random Forrest\n",
        "\n",
        "Accuracy 0.8027152431689294\n",
        "Precisión: 55.38%\n",
        "AUC-ROC: 0.57\n",
        "```\n",
        "\n"
      ],
      "metadata": {
        "id": "iZFP5F2ltibQ"
      }
    },
    {
      "cell_type": "markdown",
      "source": [
        "\n",
        "\n",
        "```\n",
        "Decision Tree\n",
        "\n",
        "Accuracy 0.7979034198315862\n",
        "Precisión: 51.72%\n",
        "AUC-ROC: 0.57\n",
        "```\n",
        "\n"
      ],
      "metadata": {
        "id": "86_KRmpGtc5D"
      }
    },
    {
      "cell_type": "markdown",
      "source": [
        "\n",
        "\n",
        "```\n",
        "Regresión Logística\n",
        "\n",
        "Accuracy 0.7963567623302973\n",
        "Precisión: 52.87%\n",
        "AUC-ROC: 0.51\n",
        "\n",
        "```\n",
        "\n"
      ],
      "metadata": {
        "id": "hhO3s9XEtMgW"
      }
    },
    {
      "cell_type": "markdown",
      "source": [
        "\n",
        "\n",
        "```\n",
        "LightGBM:\n",
        "```\n",
        "\n"
      ],
      "metadata": {
        "id": "JV-f24VCupQS"
      }
    },
    {
      "cell_type": "markdown",
      "source": [
        "## Gráficos"
      ],
      "metadata": {
        "id": "Mucir9S9Kk5q"
      }
    },
    {
      "cell_type": "code",
      "source": [
        "# Calcula el porcentaje de valores NaN por columna\n",
        "porcentaje_na_por_columna = rain.isna().mean() * 100\n",
        "\n",
        "print(\"Porcentaje de NaN por columna:\")\n",
        "print(porcentaje_na_por_columna)"
      ],
      "metadata": {
        "colab": {
          "base_uri": "https://localhost:8080/"
        },
        "id": "mHclxUB2LILB",
        "outputId": "d54fc75f-466e-40ab-aca8-1c9f06d46841"
      },
      "execution_count": null,
      "outputs": [
        {
          "output_type": "stream",
          "name": "stdout",
          "text": [
            "Porcentaje de NaN por columna:\n",
            "Date              0.002062\n",
            "Location          0.002062\n",
            "MinTemp           0.651025\n",
            "MaxTemp           0.589153\n",
            "Rainfall          1.918701\n",
            "Evaporation      42.838385\n",
            "Sunshine         47.923527\n",
            "WindGustDir       6.687611\n",
            "WindGustSpeed     6.644989\n",
            "WindDir9am        6.822353\n",
            "WindDir3pm        2.509917\n",
            "WindSpeed9am      0.788517\n",
            "WindSpeed3pm      1.708338\n",
            "Humidity9am       1.412043\n",
            "Humidity3pm       2.718217\n",
            "Pressure9am       9.924861\n",
            "Pressure3pm       9.916611\n",
            "Cloud9am         38.050913\n",
            "Cloud3pm         40.588328\n",
            "Temp9am           0.801578\n",
            "Temp3pm           2.099503\n",
            "RainToday         2.243870\n",
            "RainTomorrow      2.247994\n",
            "RainStreak        0.002062\n",
            "RainLast7Days     0.002062\n",
            "dtype: float64\n"
          ]
        }
      ]
    },
    {
      "cell_type": "code",
      "source": [
        "# Agrupa los valores faltantes por año en las columnas 'evaporation' y 'sunshine'\n",
        "missings_por_anio = rain.groupby('year')[['Evaporation', 'Sunshine']].apply(lambda x: x.isna().sum())\n",
        "\n",
        "# Crea el gráfico de barras\n",
        "missings_por_anio.plot(kind='bar', figsize=(10, 6))\n",
        "\n",
        "# Personaliza el gráfico\n",
        "plt.title('Cantidad de Valores Faltantes por Año')\n",
        "plt.xlabel('Año')\n",
        "plt.ylabel('Cantidad de Valores Faltantes')\n",
        "plt.legend(['Evaporation', 'Sunshine'])\n",
        "plt.xticks(rotation=0)\n",
        "\n",
        "plt.show()"
      ],
      "metadata": {
        "colab": {
          "base_uri": "https://localhost:8080/",
          "height": 564
        },
        "id": "3ASgSfgcV0Xp",
        "outputId": "07a40180-e63a-4c28-94e1-4eb3e9c3d136"
      },
      "execution_count": null,
      "outputs": [
        {
          "output_type": "display_data",
          "data": {
            "text/plain": [
              "<Figure size 1000x600 with 1 Axes>"
            ],
            "image/png": "[encoded data removed]"
          },
          "metadata": {}
        }
      ]
    },
    {
      "cell_type": "code",
      "source": [
        "# Agrupa los valores faltantes por año en las columnas 'evaporation' y 'sunshine'\n",
        "missings_por_anio = rain.groupby('month')[['Evaporation', 'Sunshine']].apply(lambda x: x.isna().sum())\n",
        "\n",
        "# Crea el gráfico de barras\n",
        "missings_por_anio.plot(kind='bar', figsize=(10, 6))\n",
        "\n",
        "# Personaliza el gráfico\n",
        "plt.title('Cantidad de Valores Faltantes por Mes')\n",
        "plt.xlabel('Año')\n",
        "plt.ylabel('Cantidad de Valores Faltantes')\n",
        "plt.legend(['Evaporation', 'Sunshine'])\n",
        "plt.xticks(rotation=0)\n",
        "\n",
        "plt.show()"
      ],
      "metadata": {
        "colab": {
          "base_uri": "https://localhost:8080/",
          "height": 564
        },
        "id": "K1y7Y3m4XKJI",
        "outputId": "b37b0c5b-adcf-4feb-cb79-7fff5e3c87ce"
      },
      "execution_count": null,
      "outputs": [
        {
          "output_type": "display_data",
          "data": {
            "text/plain": [
              "<Figure size 1000x600 with 1 Axes>"
            ],
            "image/png": "[encoded data removed]"
          },
          "metadata": {}
        }
      ]
    },
    {
      "cell_type": "code",
      "source": [
        "# Calcula el promedio de 'MinTemp' para filas con al menos un valor nulo\n",
        "promedio_min_temp_con_nulos = rain[rain.isnull().any(axis=1)]['MinTemp'].mean()\n",
        "\n",
        "# Calcula el promedio de 'MinTemp' para filas sin valores nulos\n",
        "promedio_min_temp_sin_nulos = rain[~rain.isnull().any(axis=1)]['MinTemp'].mean()\n",
        "\n",
        "# Calcula el promedio de 'MaxTemp' para filas con al menos un valor nulo\n",
        "promedio_max_temp_con_nulos = rain[rain.isnull().any(axis=1)]['MaxTemp'].mean()\n",
        "\n",
        "# Calcula el promedio de 'MaxTemp' para filas sin valores nulos\n",
        "promedio_max_temp_sin_nulos = rain[~rain.isnull().any(axis=1)]['MaxTemp'].mean()\n",
        "\n",
        "# Crear una lista con los promedios\n",
        "promedios_con_nulos = [promedio_min_temp_con_nulos, promedio_max_temp_con_nulos]\n",
        "promedios_sin_nulos = [promedio_min_temp_sin_nulos, promedio_max_temp_sin_nulos]\n",
        "\n",
        "# Etiquetas de las barras\n",
        "etiquetas = ['MinTemp', 'MaxTemp']\n",
        "\n",
        "# Coordenadas de las barras\n",
        "x = range(len(etiquetas))\n",
        "\n",
        "# Crear la figura y los ejes del gráfico de barras\n",
        "fig, ax = plt.subplots()\n",
        "\n",
        "# Crear las barras para promedios con nulos\n",
        "ax.bar(x, promedios_con_nulos, label='Con Nulos', color='skyblue')\n",
        "\n",
        "# Crear las barras para promedios sin nulos\n",
        "ax.bar(x, promedios_sin_nulos, label='Sin Nulos', color='lightgreen')\n",
        "\n",
        "# Agregar etiquetas a las barras\n",
        "for i, v in enumerate(promedios_con_nulos):\n",
        "    ax.text(i, v + 0.1, str(round(v, 2)), ha='center')\n",
        "\n",
        "for i, v in enumerate(promedios_sin_nulos):\n",
        "    ax.text(i, v + 0.1, str(round(v, 2)), ha='center')\n",
        "\n",
        "# Personalizar el gráfico\n",
        "ax.set_ylabel('Promedio')\n",
        "ax.set_title('Promedio de MinTemp y MaxTemp con/sin Nulos')\n",
        "ax.set_xticks(x)\n",
        "ax.set_xticklabels(etiquetas)\n",
        "ax.legend()\n",
        "\n",
        "# Mostrar el gráfico de barras\n",
        "plt.show()"
      ],
      "metadata": {
        "colab": {
          "base_uri": "https://localhost:8080/",
          "height": 452
        },
        "id": "POZ71uymoOXM",
        "outputId": "746a1f6e-9292-42a9-bf0c-8a0f18725272"
      },
      "execution_count": null,
      "outputs": [
        {
          "output_type": "display_data",
          "data": {
            "text/plain": [
              "<Figure size 640x480 with 1 Axes>"
            ],
            "image/png": "[encoded data removed]"
          },
          "metadata": {}
        }
      ]
    },
    {
      "cell_type": "code",
      "source": [
        "# Separar filas con al menos una columna nula y filas sin ninguna columna nula\n",
        "filas_con_nulos = rain[rain.isnull().any(axis=1)]\n",
        "filas_sin_nulos = rain[~rain.isnull().any(axis=1)]\n",
        "\n",
        "# Calcular el promedio de 'Evaporation' y 'Sunshine' para filas con al menos una columna nula\n",
        "promedio_con_nulos = filas_con_nulos[['Evaporation', 'Sunshine']].mean()\n",
        "\n",
        "# Calcular el promedio de 'Evaporation' y 'Sunshine' para filas sin ninguna columna nula\n",
        "promedio_sin_nulos = filas_sin_nulos[['Evaporation', 'Sunshine']].mean()\n",
        "\n",
        "# Crear figura y ejes para el gráfico de promedios\n",
        "fig, ax = plt.subplots()\n",
        "bar_width = 0.35\n",
        "\n",
        "# Coordenadas de las barras\n",
        "x1 = range(len(promedio_con_nulos))\n",
        "x2 = [x + bar_width for x in x1]\n",
        "\n",
        "# Crear las barras para los promedios con al menos una columna nula\n",
        "ax.bar(x1, promedio_con_nulos, bar_width, label='Con al menos una columna nula')\n",
        "\n",
        "# Crear las barras para los promedios sin ninguna columna nula\n",
        "ax.bar(x2, promedio_sin_nulos, bar_width, label='Sin ninguna columna nula')\n",
        "\n",
        "# Etiquetas de las barras\n",
        "ax.set_xticks([x + bar_width/2 for x in range(len(promedio_con_nulos))])\n",
        "ax.set_xticklabels(promedio_con_nulos.index)\n",
        "\n",
        "# Etiquetas de los ejes y título del gráfico\n",
        "ax.set_ylabel('Promedio')\n",
        "ax.set_title('Promedio de Evaporation y Sunshine')\n",
        "\n",
        "# Agregar leyenda\n",
        "ax.legend()\n",
        "\n",
        "# Mostrar el gráfico\n",
        "plt.tight_layout()\n",
        "plt.show()"
      ],
      "metadata": {
        "colab": {
          "base_uri": "https://localhost:8080/",
          "height": 487
        },
        "id": "8BLAiUfQvqXX",
        "outputId": "da23314f-14dc-407b-fae5-5a24b0d355e6"
      },
      "execution_count": null,
      "outputs": [
        {
          "output_type": "display_data",
          "data": {
            "text/plain": [
              "<Figure size 640x480 with 1 Axes>"
            ],
            "image/png": "[encoded data removed]"
          },
          "metadata": {}
        }
      ]
    },
    {
      "cell_type": "code",
      "source": [
        "# Crear el mapa\n",
        "fig = plt.figure(figsize=(10, 6))\n",
        "ax = plt.axes(projection=ccrs.PlateCarree())\n",
        "\n",
        "# Dibujar las costas y fronteras\n",
        "ax.coastlines()\n",
        "\n",
        "# Graficar los puntos en el mapa\n",
        "ax.scatter(rain['longitude'], rain['latitude'], marker='o', color='red', alpha=0.7, transform=ccrs.PlateCarree())\n",
        "\n",
        "# Título del mapa\n",
        "plt.title('Puntos en el mapa')\n",
        "\n",
        "# Mostrar el mapa\n",
        "plt.show()"
      ],
      "metadata": {
        "colab": {
          "base_uri": "https://localhost:8080/",
          "height": 505
        },
        "id": "F1ahowPQyNRb",
        "outputId": "06c418f5-9e23-44ad-a88d-8e042063c000"
      },
      "execution_count": null,
      "outputs": [
        {
          "output_type": "display_data",
          "data": {
            "text/plain": [
              "<Figure size 1000x600 with 1 Axes>"
            ],
            "image/png": "[encoded data removed]"
          },
          "metadata": {}
        }
      ]
    },
    {
      "cell_type": "code",
      "source": [
        "# Obtener los valores únicos de latitud y longitud\n",
        "unique_latitudes = rain['latitude'].unique()\n",
        "unique_longitudes = rain['longitude'].unique()\n",
        "\n",
        "# Crear el mapa\n",
        "fig = plt.figure(figsize=(10, 6))\n",
        "ax = plt.axes(projection=ccrs.PlateCarree())\n",
        "\n",
        "# Dibujar las costas y fronteras\n",
        "ax.coastlines()\n",
        "\n",
        "# Graficar un punto para cada valor único de latitud y longitud\n",
        "for lat, lon in zip(unique_latitudes, unique_longitudes):\n",
        "    ax.plot(lon, lat, marker='o', markersize=5, color='red', alpha=0.7, transform=ccrs.PlateCarree())\n",
        "\n",
        "# Título del mapa\n",
        "plt.title('Puntos en el mapa')\n",
        "\n",
        "# Mostrar el mapa\n",
        "plt.show()\n"
      ],
      "metadata": {
        "colab": {
          "base_uri": "https://localhost:8080/",
          "height": 505
        },
        "id": "LPcCmLXUzsWP",
        "outputId": "15053e47-d4c6-4587-c8e2-fb6441d9dfff"
      },
      "execution_count": null,
      "outputs": [
        {
          "output_type": "display_data",
          "data": {
            "text/plain": [
              "<Figure size 1000x600 with 1 Axes>"
            ],
            "image/png": "[encoded data removed]"
          },
          "metadata": {}
        }
      ]
    },
    {
      "cell_type": "code",
      "source": [
        "# Obtener los valores únicos de latitud, longitud y location_cluster\n",
        "unique_latitudes = rain['latitude'].unique()\n",
        "unique_longitudes = rain['longitude'].unique()\n",
        "unique_clusters = rain['location_cluster'].unique()\n",
        "\n",
        "# Crear el mapa\n",
        "fig = plt.figure(figsize=(10, 6))\n",
        "ax = plt.axes(projection=ccrs.PlateCarree())\n",
        "\n",
        "# Dibujar las costas y fronteras\n",
        "ax.coastlines()\n",
        "\n",
        "# Definir una paleta de colores\n",
        "cmap = plt.cm.get_cmap('Set3')\n",
        "\n",
        "# Graficar un punto para cada valor único de latitud y longitud, con color según location_cluster\n",
        "for lat, lon, cluster in zip(unique_latitudes, unique_longitudes, unique_clusters):\n",
        "    color = cmap(cluster % cmap.N)  # Obtener el color correspondiente al cluster\n",
        "    ax.plot(lon, lat, marker='o', markersize=5, color=color, alpha=0.7, transform=ccrs.PlateCarree())\n",
        "\n",
        "# Título del mapa\n",
        "plt.title('Puntos en el mapa (Color según location_cluster)')\n",
        "\n",
        "# Mostrar el mapa\n",
        "plt.show()\n"
      ],
      "metadata": {
        "colab": {
          "base_uri": "https://localhost:8080/",
          "height": 576
        },
        "id": "qAAnUUWo0KFa",
        "outputId": "6363100d-2bf4-4bf6-a992-2ab204d24f61"
      },
      "execution_count": null,
      "outputs": [
        {
          "output_type": "stream",
          "name": "stderr",
          "text": [
            "<ipython-input-65-4d4e5d3752a2>:14: MatplotlibDeprecationWarning: The get_cmap function was deprecated in Matplotlib 3.7 and will be removed two minor releases later. Use ``matplotlib.colormaps[name]`` or ``matplotlib.colormaps.get_cmap(obj)`` instead.\n",
            "  cmap = plt.cm.get_cmap('Set3')\n"
          ]
        },
        {
          "output_type": "display_data",
          "data": {
            "text/plain": [
              "<Figure size 1000x600 with 1 Axes>"
            ],
            "image/png": "[encoded data removed]"
          },
          "metadata": {}
        }
      ]
    },
    {
      "cell_type": "code",
      "source": [
        "# Crear una figura con dos subplots\n",
        "fig, axes = plt.subplots(nrows=1, ncols=2, figsize=(10, 6))\n",
        "\n",
        "# Boxplot para la columna \"RainStreak\"\n",
        "axes[0].boxplot(rain['RainStreak'])\n",
        "axes[0].set_title('RainStreak')\n",
        "axes[0].set_ylabel('Días seguidos con lluvia')\n",
        "\n",
        "# Boxplot para la columna \"RainLast7Days\"\n",
        "axes[1].boxplot(rain['RainLast7Days'])\n",
        "axes[1].set_title('RainLast7Days')\n",
        "axes[1].set_ylabel('Cantidad de días lluviosos en los últimos 7 días')\n",
        "\n",
        "# Ajustar el espacio entre los subplots\n",
        "fig.tight_layout()\n",
        "\n",
        "# Mostrar los boxplots\n",
        "plt.show()"
      ],
      "metadata": {
        "colab": {
          "base_uri": "https://localhost:8080/",
          "height": 607
        },
        "id": "97S-jbjRB0w0",
        "outputId": "f6e9d7d9-d23e-4ea2-c03c-14e9809acd96"
      },
      "execution_count": null,
      "outputs": [
        {
          "output_type": "display_data",
          "data": {
            "text/plain": [
              "<Figure size 1000x600 with 2 Axes>"
            ],
            "image/png": "[encoded data removed]"
          },
          "metadata": {}
        }
      ]
    }
  ]
}